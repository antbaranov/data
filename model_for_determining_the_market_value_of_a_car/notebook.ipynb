{
  "nbformat": 4,
  "nbformat_minor": 0,
  "metadata": {
    "kernelspec": {
      "display_name": "Python 3",
      "language": "python",
      "name": "python3"
    },
    "language_info": {
      "codemirror_mode": {
        "name": "ipython",
        "version": 3
      },
      "file_extension": ".py",
      "mimetype": "text/x-python",
      "name": "python",
      "nbconvert_exporter": "python",
      "pygments_lexer": "ipython3",
      "version": "3.7.6"
    },
    "colab": {
      "name": "notebook.ipynb",
      "provenance": [],
      "collapsed_sections": [],
      "toc_visible": true
    }
  },
  "cells": [
    {
      "cell_type": "markdown",
      "metadata": {
        "id": "17aj-7hON0eD"
      },
      "source": [
        "# Численные методы: Модель определения рыночной стоимости автомобиля"
      ]
    },
    {
      "cell_type": "markdown",
      "metadata": {
        "id": "BEgbuZKk4RX_"
      },
      "source": [
        "### Описание проекта"
      ]
    },
    {
      "cell_type": "markdown",
      "metadata": {
        "id": "UlIrqPbtN0eE"
      },
      "source": [
        "Сервис по продаже автомобилей разрабатывает приложение для привлечения новых клиентов. В нём можно быстро узнать рыночную стоимость своего автомобиля. В нашем распоряжении исторические данные: технические характеристики, комплектации и цены автомобилей. Нам нужно построить модель для определения стоимости авто. \n",
        "\n",
        "Заказчику важны:\n",
        "\n",
        "- качество предсказания;\n",
        "- скорость предсказания;\n",
        "- время обучения."
      ]
    },
    {
      "cell_type": "markdown",
      "metadata": {
        "id": "m8laqlar4XnR"
      },
      "source": [
        "### Описание данных"
      ]
    },
    {
      "cell_type": "markdown",
      "metadata": {
        "id": "hyBKvHgtN0eE"
      },
      "source": [
        "**Признаки**\n",
        "\n",
        "\n",
        "        DateCrawled — дата скачивания анкеты из базы\n",
        "        VehicleType — тип автомобильного кузова\n",
        "        RegistrationYear — год регистрации автомобиля\n",
        "        Gearbox — тип коробки передач\n",
        "        Power — мощность (л. с.)\n",
        "        Model — модель автомобиля\n",
        "        Kilometer — пробег (км)\n",
        "        RegistrationMonth — месяц регистрации автомобиля\n",
        "        FuelType — тип топлива\n",
        "        Brand — марка автомобиля\n",
        "        NotRepaired — была машина в ремонте или нет\n",
        "        DateCreated — дата создания анкеты\n",
        "        NumberOfPictures — количество фотографий автомобиля\n",
        "        PostalCode — почтовый индекс владельца анкеты (пользователя)\n",
        "        LastSeen — дата последней активности пользователя\n",
        "\n",
        "**Целевой признак**\n",
        "\n",
        "    Price — цена (евро)"
      ]
    },
    {
      "cell_type": "markdown",
      "metadata": {
        "id": "N544dtcYN0eG"
      },
      "source": [
        "## План по выполнению проекта\n",
        "1. Загрузим и подготовим данные.\n",
        "2. Обучим несколько моделей с различными гиперпараметрами.\n",
        "3. Проанализируем скорость работы и качество моделей.\n",
        "Критерий качества RMSE (Root Mean Square Error - Квадратный корень среднеквардатичной ошибки​)."
      ]
    },
    {
      "cell_type": "markdown",
      "metadata": {
        "id": "ARr1E3McN0eG"
      },
      "source": [
        "# 1. Подготовка данных"
      ]
    },
    {
      "cell_type": "markdown",
      "metadata": {
        "id": "nMF53qErkcCq"
      },
      "source": [
        "### Импортируем необходимые библиотеки для работы"
      ]
    },
    {
      "cell_type": "code",
      "metadata": {
        "id": "pcl9nGuKN0eH"
      },
      "source": [
        "import pandas as pd\n",
        "import numpy as np\n",
        "from sklearn.model_selection import train_test_split, GridSearchCV, cross_val_score, KFold\n",
        "import lightgbm as lgb\n",
        "from lightgbm import LGBMRegressor\n",
        "from catboost import CatBoostRegressor\n",
        "from xgboost import XGBRegressor\n",
        "from sklearn.ensemble import RandomForestRegressor\n",
        "from sklearn.linear_model import LinearRegression\n",
        "from sklearn.metrics import mean_squared_error, make_scorer\n",
        "import matplotlib.pyplot as plt\n",
        "import seaborn as sns\n",
        "import timeit"
      ],
      "execution_count": null,
      "outputs": []
    },
    {
      "cell_type": "markdown",
      "metadata": {
        "id": "B0yS9Jiwkwdt"
      },
      "source": [
        "Импортируем данные из файла и выведем их на экран"
      ]
    },
    {
      "cell_type": "code",
      "metadata": {
        "id": "DZ1Mb7K3N0eL"
      },
      "source": [
        "df = pd.read_csv('file.csv')"
      ],
      "execution_count": null,
      "outputs": []
    },
    {
      "cell_type": "code",
      "metadata": {
        "id": "9BL-n2MgN0eN",
        "colab": {
          "base_uri": "https://localhost:8080/",
          "height": 767
        },
        "outputId": "15cf7592-c97b-4c50-a343-b8e692a2273d"
      },
      "source": [
        "df"
      ],
      "execution_count": null,
      "outputs": [
        {
          "output_type": "execute_result",
          "data": {
            "text/html": [
              "<div>\n",
              "<style scoped>\n",
              "    .dataframe tbody tr th:only-of-type {\n",
              "        vertical-align: middle;\n",
              "    }\n",
              "\n",
              "    .dataframe tbody tr th {\n",
              "        vertical-align: top;\n",
              "    }\n",
              "\n",
              "    .dataframe thead th {\n",
              "        text-align: right;\n",
              "    }\n",
              "</style>\n",
              "<table border=\"1\" class=\"dataframe\">\n",
              "  <thead>\n",
              "    <tr style=\"text-align: right;\">\n",
              "      <th></th>\n",
              "      <th>DateCrawled</th>\n",
              "      <th>Price</th>\n",
              "      <th>VehicleType</th>\n",
              "      <th>RegistrationYear</th>\n",
              "      <th>Gearbox</th>\n",
              "      <th>Power</th>\n",
              "      <th>Model</th>\n",
              "      <th>Kilometer</th>\n",
              "      <th>RegistrationMonth</th>\n",
              "      <th>FuelType</th>\n",
              "      <th>Brand</th>\n",
              "      <th>NotRepaired</th>\n",
              "      <th>DateCreated</th>\n",
              "      <th>NumberOfPictures</th>\n",
              "      <th>PostalCode</th>\n",
              "      <th>LastSeen</th>\n",
              "    </tr>\n",
              "  </thead>\n",
              "  <tbody>\n",
              "    <tr>\n",
              "      <th>0</th>\n",
              "      <td>2016-03-24 11:52:17</td>\n",
              "      <td>480</td>\n",
              "      <td>NaN</td>\n",
              "      <td>1993</td>\n",
              "      <td>manual</td>\n",
              "      <td>0</td>\n",
              "      <td>golf</td>\n",
              "      <td>150000</td>\n",
              "      <td>0</td>\n",
              "      <td>petrol</td>\n",
              "      <td>volkswagen</td>\n",
              "      <td>NaN</td>\n",
              "      <td>2016-03-24 00:00:00</td>\n",
              "      <td>0</td>\n",
              "      <td>70435</td>\n",
              "      <td>2016-04-07 03:16:57</td>\n",
              "    </tr>\n",
              "    <tr>\n",
              "      <th>1</th>\n",
              "      <td>2016-03-24 10:58:45</td>\n",
              "      <td>18300</td>\n",
              "      <td>coupe</td>\n",
              "      <td>2011</td>\n",
              "      <td>manual</td>\n",
              "      <td>190</td>\n",
              "      <td>NaN</td>\n",
              "      <td>125000</td>\n",
              "      <td>5</td>\n",
              "      <td>gasoline</td>\n",
              "      <td>audi</td>\n",
              "      <td>yes</td>\n",
              "      <td>2016-03-24 00:00:00</td>\n",
              "      <td>0</td>\n",
              "      <td>66954</td>\n",
              "      <td>2016-04-07 01:46:50</td>\n",
              "    </tr>\n",
              "    <tr>\n",
              "      <th>2</th>\n",
              "      <td>2016-03-14 12:52:21</td>\n",
              "      <td>9800</td>\n",
              "      <td>suv</td>\n",
              "      <td>2004</td>\n",
              "      <td>auto</td>\n",
              "      <td>163</td>\n",
              "      <td>grand</td>\n",
              "      <td>125000</td>\n",
              "      <td>8</td>\n",
              "      <td>gasoline</td>\n",
              "      <td>jeep</td>\n",
              "      <td>NaN</td>\n",
              "      <td>2016-03-14 00:00:00</td>\n",
              "      <td>0</td>\n",
              "      <td>90480</td>\n",
              "      <td>2016-04-05 12:47:46</td>\n",
              "    </tr>\n",
              "    <tr>\n",
              "      <th>3</th>\n",
              "      <td>2016-03-17 16:54:04</td>\n",
              "      <td>1500</td>\n",
              "      <td>small</td>\n",
              "      <td>2001</td>\n",
              "      <td>manual</td>\n",
              "      <td>75</td>\n",
              "      <td>golf</td>\n",
              "      <td>150000</td>\n",
              "      <td>6</td>\n",
              "      <td>petrol</td>\n",
              "      <td>volkswagen</td>\n",
              "      <td>no</td>\n",
              "      <td>2016-03-17 00:00:00</td>\n",
              "      <td>0</td>\n",
              "      <td>91074</td>\n",
              "      <td>2016-03-17 17:40:17</td>\n",
              "    </tr>\n",
              "    <tr>\n",
              "      <th>4</th>\n",
              "      <td>2016-03-31 17:25:20</td>\n",
              "      <td>3600</td>\n",
              "      <td>small</td>\n",
              "      <td>2008</td>\n",
              "      <td>manual</td>\n",
              "      <td>69</td>\n",
              "      <td>fabia</td>\n",
              "      <td>90000</td>\n",
              "      <td>7</td>\n",
              "      <td>gasoline</td>\n",
              "      <td>skoda</td>\n",
              "      <td>no</td>\n",
              "      <td>2016-03-31 00:00:00</td>\n",
              "      <td>0</td>\n",
              "      <td>60437</td>\n",
              "      <td>2016-04-06 10:17:21</td>\n",
              "    </tr>\n",
              "    <tr>\n",
              "      <th>...</th>\n",
              "      <td>...</td>\n",
              "      <td>...</td>\n",
              "      <td>...</td>\n",
              "      <td>...</td>\n",
              "      <td>...</td>\n",
              "      <td>...</td>\n",
              "      <td>...</td>\n",
              "      <td>...</td>\n",
              "      <td>...</td>\n",
              "      <td>...</td>\n",
              "      <td>...</td>\n",
              "      <td>...</td>\n",
              "      <td>...</td>\n",
              "      <td>...</td>\n",
              "      <td>...</td>\n",
              "      <td>...</td>\n",
              "    </tr>\n",
              "    <tr>\n",
              "      <th>354364</th>\n",
              "      <td>2016-03-21 09:50:58</td>\n",
              "      <td>0</td>\n",
              "      <td>NaN</td>\n",
              "      <td>2005</td>\n",
              "      <td>manual</td>\n",
              "      <td>0</td>\n",
              "      <td>colt</td>\n",
              "      <td>150000</td>\n",
              "      <td>7</td>\n",
              "      <td>petrol</td>\n",
              "      <td>mitsubishi</td>\n",
              "      <td>yes</td>\n",
              "      <td>2016-03-21 00:00:00</td>\n",
              "      <td>0</td>\n",
              "      <td>2694</td>\n",
              "      <td>2016-03-21 10:42:49</td>\n",
              "    </tr>\n",
              "    <tr>\n",
              "      <th>354365</th>\n",
              "      <td>2016-03-14 17:48:27</td>\n",
              "      <td>2200</td>\n",
              "      <td>NaN</td>\n",
              "      <td>2005</td>\n",
              "      <td>NaN</td>\n",
              "      <td>0</td>\n",
              "      <td>NaN</td>\n",
              "      <td>20000</td>\n",
              "      <td>1</td>\n",
              "      <td>NaN</td>\n",
              "      <td>sonstige_autos</td>\n",
              "      <td>NaN</td>\n",
              "      <td>2016-03-14 00:00:00</td>\n",
              "      <td>0</td>\n",
              "      <td>39576</td>\n",
              "      <td>2016-04-06 00:46:52</td>\n",
              "    </tr>\n",
              "    <tr>\n",
              "      <th>354366</th>\n",
              "      <td>2016-03-05 19:56:21</td>\n",
              "      <td>1199</td>\n",
              "      <td>convertible</td>\n",
              "      <td>2000</td>\n",
              "      <td>auto</td>\n",
              "      <td>101</td>\n",
              "      <td>fortwo</td>\n",
              "      <td>125000</td>\n",
              "      <td>3</td>\n",
              "      <td>petrol</td>\n",
              "      <td>smart</td>\n",
              "      <td>no</td>\n",
              "      <td>2016-03-05 00:00:00</td>\n",
              "      <td>0</td>\n",
              "      <td>26135</td>\n",
              "      <td>2016-03-11 18:17:12</td>\n",
              "    </tr>\n",
              "    <tr>\n",
              "      <th>354367</th>\n",
              "      <td>2016-03-19 18:57:12</td>\n",
              "      <td>9200</td>\n",
              "      <td>bus</td>\n",
              "      <td>1996</td>\n",
              "      <td>manual</td>\n",
              "      <td>102</td>\n",
              "      <td>transporter</td>\n",
              "      <td>150000</td>\n",
              "      <td>3</td>\n",
              "      <td>gasoline</td>\n",
              "      <td>volkswagen</td>\n",
              "      <td>no</td>\n",
              "      <td>2016-03-19 00:00:00</td>\n",
              "      <td>0</td>\n",
              "      <td>87439</td>\n",
              "      <td>2016-04-07 07:15:26</td>\n",
              "    </tr>\n",
              "    <tr>\n",
              "      <th>354368</th>\n",
              "      <td>2016-03-20 19:41:08</td>\n",
              "      <td>3400</td>\n",
              "      <td>wagon</td>\n",
              "      <td>2002</td>\n",
              "      <td>manual</td>\n",
              "      <td>100</td>\n",
              "      <td>golf</td>\n",
              "      <td>150000</td>\n",
              "      <td>6</td>\n",
              "      <td>gasoline</td>\n",
              "      <td>volkswagen</td>\n",
              "      <td>NaN</td>\n",
              "      <td>2016-03-20 00:00:00</td>\n",
              "      <td>0</td>\n",
              "      <td>40764</td>\n",
              "      <td>2016-03-24 12:45:21</td>\n",
              "    </tr>\n",
              "  </tbody>\n",
              "</table>\n",
              "<p>354369 rows × 16 columns</p>\n",
              "</div>"
            ],
            "text/plain": [
              "                DateCrawled  Price  ... PostalCode             LastSeen\n",
              "0       2016-03-24 11:52:17    480  ...      70435  2016-04-07 03:16:57\n",
              "1       2016-03-24 10:58:45  18300  ...      66954  2016-04-07 01:46:50\n",
              "2       2016-03-14 12:52:21   9800  ...      90480  2016-04-05 12:47:46\n",
              "3       2016-03-17 16:54:04   1500  ...      91074  2016-03-17 17:40:17\n",
              "4       2016-03-31 17:25:20   3600  ...      60437  2016-04-06 10:17:21\n",
              "...                     ...    ...  ...        ...                  ...\n",
              "354364  2016-03-21 09:50:58      0  ...       2694  2016-03-21 10:42:49\n",
              "354365  2016-03-14 17:48:27   2200  ...      39576  2016-04-06 00:46:52\n",
              "354366  2016-03-05 19:56:21   1199  ...      26135  2016-03-11 18:17:12\n",
              "354367  2016-03-19 18:57:12   9200  ...      87439  2016-04-07 07:15:26\n",
              "354368  2016-03-20 19:41:08   3400  ...      40764  2016-03-24 12:45:21\n",
              "\n",
              "[354369 rows x 16 columns]"
            ]
          },
          "metadata": {
            "tags": []
          },
          "execution_count": 6
        }
      ]
    },
    {
      "cell_type": "markdown",
      "metadata": {
        "id": "X_m7dJ3Uk80x"
      },
      "source": [
        "Выведем информацию о датасете"
      ]
    },
    {
      "cell_type": "code",
      "metadata": {
        "id": "r7XZpxC-N0eQ",
        "colab": {
          "base_uri": "https://localhost:8080/"
        },
        "outputId": "36627279-b3bd-4a5a-fa67-86e099440e34"
      },
      "source": [
        "df.info()"
      ],
      "execution_count": null,
      "outputs": [
        {
          "output_type": "stream",
          "text": [
            "<class 'pandas.core.frame.DataFrame'>\n",
            "RangeIndex: 354369 entries, 0 to 354368\n",
            "Data columns (total 16 columns):\n",
            " #   Column             Non-Null Count   Dtype \n",
            "---  ------             --------------   ----- \n",
            " 0   DateCrawled        354369 non-null  object\n",
            " 1   Price              354369 non-null  int64 \n",
            " 2   VehicleType        316879 non-null  object\n",
            " 3   RegistrationYear   354369 non-null  int64 \n",
            " 4   Gearbox            334536 non-null  object\n",
            " 5   Power              354369 non-null  int64 \n",
            " 6   Model              334664 non-null  object\n",
            " 7   Kilometer          354369 non-null  int64 \n",
            " 8   RegistrationMonth  354369 non-null  int64 \n",
            " 9   FuelType           321474 non-null  object\n",
            " 10  Brand              354369 non-null  object\n",
            " 11  NotRepaired        283215 non-null  object\n",
            " 12  DateCreated        354369 non-null  object\n",
            " 13  NumberOfPictures   354369 non-null  int64 \n",
            " 14  PostalCode         354369 non-null  int64 \n",
            " 15  LastSeen           354369 non-null  object\n",
            "dtypes: int64(7), object(9)\n",
            "memory usage: 43.3+ MB\n"
          ],
          "name": "stdout"
        }
      ]
    },
    {
      "cell_type": "markdown",
      "metadata": {
        "id": "tLmANqT4Xqwh"
      },
      "source": [
        "Выведем на экран суммы пропусков в данных"
      ]
    },
    {
      "cell_type": "code",
      "metadata": {
        "id": "cXOOEFPpN0eT",
        "colab": {
          "base_uri": "https://localhost:8080/"
        },
        "outputId": "d4da898f-2d2a-460c-ed9f-22f409e1738d"
      },
      "source": [
        "df.isnull().sum()"
      ],
      "execution_count": null,
      "outputs": [
        {
          "output_type": "execute_result",
          "data": {
            "text/plain": [
              "DateCrawled              0\n",
              "Price                    0\n",
              "VehicleType          37490\n",
              "RegistrationYear         0\n",
              "Gearbox              19833\n",
              "Power                    0\n",
              "Model                19705\n",
              "Kilometer                0\n",
              "RegistrationMonth        0\n",
              "FuelType             32895\n",
              "Brand                    0\n",
              "NotRepaired          71154\n",
              "DateCreated              0\n",
              "NumberOfPictures         0\n",
              "PostalCode               0\n",
              "LastSeen                 0\n",
              "dtype: int64"
            ]
          },
          "metadata": {
            "tags": []
          },
          "execution_count": 8
        }
      ]
    },
    {
      "cell_type": "markdown",
      "metadata": {
        "id": "OA6ZAltwN0eX"
      },
      "source": [
        "**Вывод**\n",
        "\n",
        "Дадасет имеет 354369 строк и 16 признаков. Имеются пропуски в данных: \n",
        "- VehicleType          37490\n",
        "- Gearbox              19833\n",
        "- Model                19705\n",
        "- FuelType             32895\n",
        "- NotRepaired          71154\n",
        "\n",
        "Все пропуски относятся с типу данных - объект."
      ]
    },
    {
      "cell_type": "markdown",
      "metadata": {
        "id": "81vE0XjGN0eY"
      },
      "source": [
        "Проверим качество моделей с удалением пропусков и без удаления пропусков."
      ]
    },
    {
      "cell_type": "code",
      "metadata": {
        "id": "Ougy3yhpN0eZ"
      },
      "source": [
        "df = df.dropna()"
      ],
      "execution_count": null,
      "outputs": []
    },
    {
      "cell_type": "markdown",
      "metadata": {
        "id": "kJG2DFSWN0eb"
      },
      "source": [
        "При удалении пропусков модели показали лучше качество (* Изначально мы обучили модели без удаления пропусков).\n",
        "\n",
        "Проверим корректность удаления пропусков в данных."
      ]
    },
    {
      "cell_type": "code",
      "metadata": {
        "id": "xN7CA8E8N0eb",
        "colab": {
          "base_uri": "https://localhost:8080/"
        },
        "outputId": "16b4ece6-3bf5-4450-dd79-4d1e017a8676"
      },
      "source": [
        "df.isnull().sum()"
      ],
      "execution_count": null,
      "outputs": [
        {
          "output_type": "execute_result",
          "data": {
            "text/plain": [
              "DateCrawled          0\n",
              "Price                0\n",
              "VehicleType          0\n",
              "RegistrationYear     0\n",
              "Gearbox              0\n",
              "Power                0\n",
              "Model                0\n",
              "Kilometer            0\n",
              "RegistrationMonth    0\n",
              "FuelType             0\n",
              "Brand                0\n",
              "NotRepaired          0\n",
              "DateCreated          0\n",
              "NumberOfPictures     0\n",
              "PostalCode           0\n",
              "LastSeen             0\n",
              "dtype: int64"
            ]
          },
          "metadata": {
            "tags": []
          },
          "execution_count": 10
        }
      ]
    },
    {
      "cell_type": "markdown",
      "metadata": {
        "id": "el87TToNlW4g"
      },
      "source": [
        "Выявим дубликаты в строках данных.\n"
      ]
    },
    {
      "cell_type": "code",
      "metadata": {
        "id": "WOv8UQIXN0ee",
        "colab": {
          "base_uri": "https://localhost:8080/"
        },
        "outputId": "2e9c1bd4-7e30-4850-c390-43bfe6f289cf"
      },
      "source": [
        "df.duplicated().sum()"
      ],
      "execution_count": null,
      "outputs": [
        {
          "output_type": "execute_result",
          "data": {
            "text/plain": [
              "4"
            ]
          },
          "metadata": {
            "tags": []
          },
          "execution_count": 11
        }
      ]
    },
    {
      "cell_type": "markdown",
      "metadata": {
        "id": "ma14unXhN0el"
      },
      "source": [
        "Мы нашли 4 дубликата, удалим их. Проверим результат удаления дубликатов."
      ]
    },
    {
      "cell_type": "code",
      "metadata": {
        "id": "sIwSf9YPN0eh"
      },
      "source": [
        "df = df.drop_duplicates().reset_index(drop = True)"
      ],
      "execution_count": null,
      "outputs": []
    },
    {
      "cell_type": "code",
      "metadata": {
        "id": "1RkDw5CXN0ej",
        "colab": {
          "base_uri": "https://localhost:8080/"
        },
        "outputId": "a14ec480-b452-439a-a1a3-867d17657c90"
      },
      "source": [
        "df.duplicated().sum()"
      ],
      "execution_count": null,
      "outputs": [
        {
          "output_type": "execute_result",
          "data": {
            "text/plain": [
              "0"
            ]
          },
          "metadata": {
            "tags": []
          },
          "execution_count": 13
        }
      ]
    },
    {
      "cell_type": "markdown",
      "metadata": {
        "id": "smF2rRdeN0em"
      },
      "source": [
        "## Подготовим признаки"
      ]
    },
    {
      "cell_type": "markdown",
      "metadata": {
        "id": "7NlduVtZN0em"
      },
      "source": [
        "Удалим признаки, которые не влияют на цену автомобиля:\n",
        "\n",
        "- DateCrawled — дата скачивания анкеты из базы\n",
        "- RegistrationMonth — месяц регистрации автомобиля\n",
        "- DateCreated — дата создания анкеты\n",
        "- NumberOfPictures — количество фотографий автомобиля\n",
        "- PostalCode — почтовый индекс владельца анкеты (пользователя)\n",
        "- LastSeen — дата последней активности пользователя"
      ]
    },
    {
      "cell_type": "code",
      "metadata": {
        "id": "MzH4YEtGN0en"
      },
      "source": [
        "df = df.drop(['DateCrawled', \n",
        "              'RegistrationMonth', \n",
        "              'DateCreated', \n",
        "              'NumberOfPictures', \n",
        "              'PostalCode', \n",
        "              'LastSeen'], axis=1)"
      ],
      "execution_count": null,
      "outputs": []
    },
    {
      "cell_type": "markdown",
      "metadata": {
        "id": "Bo5wQ8r9lsGT"
      },
      "source": [
        "Выведем на экран информацию о датасете после удаления признаков которые не влияют на цену автомобиля."
      ]
    },
    {
      "cell_type": "code",
      "metadata": {
        "scrolled": true,
        "id": "8kqyepcHN0ep",
        "colab": {
          "base_uri": "https://localhost:8080/"
        },
        "outputId": "9257c076-ae26-41ec-fe5d-113f52312fb8"
      },
      "source": [
        "df.info()"
      ],
      "execution_count": null,
      "outputs": [
        {
          "output_type": "stream",
          "text": [
            "<class 'pandas.core.frame.DataFrame'>\n",
            "RangeIndex: 245810 entries, 0 to 245809\n",
            "Data columns (total 10 columns):\n",
            " #   Column            Non-Null Count   Dtype \n",
            "---  ------            --------------   ----- \n",
            " 0   Price             245810 non-null  int64 \n",
            " 1   VehicleType       245810 non-null  object\n",
            " 2   RegistrationYear  245810 non-null  int64 \n",
            " 3   Gearbox           245810 non-null  object\n",
            " 4   Power             245810 non-null  int64 \n",
            " 5   Model             245810 non-null  object\n",
            " 6   Kilometer         245810 non-null  int64 \n",
            " 7   FuelType          245810 non-null  object\n",
            " 8   Brand             245810 non-null  object\n",
            " 9   NotRepaired       245810 non-null  object\n",
            "dtypes: int64(4), object(6)\n",
            "memory usage: 18.8+ MB\n"
          ],
          "name": "stdout"
        }
      ]
    },
    {
      "cell_type": "markdown",
      "metadata": {
        "id": "mRvihEfoN0es"
      },
      "source": [
        "#### Проверим данные на выбросы"
      ]
    },
    {
      "cell_type": "code",
      "metadata": {
        "scrolled": false,
        "id": "WrJD-73ON0es",
        "colab": {
          "base_uri": "https://localhost:8080/",
          "height": 604
        },
        "outputId": "892b1be0-9b5c-4488-c409-20ac2a7dd41a"
      },
      "source": [
        "sns.set()\n",
        "df.plot(kind = 'box', subplots = True, figsize = (16,9), sharex = False, sharey = False)\n",
        "plt.suptitle(\"Рисунки выбросов данных\")\n",
        "plt.show()"
      ],
      "execution_count": null,
      "outputs": [
        {
          "output_type": "display_data",
          "data": {
            "image/png": "[encoded data removed]",
            "text/plain": [
              "<Figure size 1152x648 with 4 Axes>"
            ]
          },
          "metadata": {
            "tags": []
          }
        }
      ]
    },
    {
      "cell_type": "code",
      "metadata": {
        "id": "przCatSZN0eu",
        "colab": {
          "base_uri": "https://localhost:8080/"
        },
        "outputId": "f5078856-e4fd-4bc8-ffff-508d1c8b9b44"
      },
      "source": [
        "(df['Price'] > 100).value_counts()"
      ],
      "execution_count": null,
      "outputs": [
        {
          "output_type": "execute_result",
          "data": {
            "text/plain": [
              "True     241465\n",
              "False      4345\n",
              "Name: Price, dtype: int64"
            ]
          },
          "metadata": {
            "tags": []
          },
          "execution_count": 17
        }
      ]
    },
    {
      "cell_type": "code",
      "metadata": {
        "id": "zAhGGhVMN0ex",
        "colab": {
          "base_uri": "https://localhost:8080/"
        },
        "outputId": "5dcf9769-b704-4f8d-9028-120acd11d2ee"
      },
      "source": [
        "(df['RegistrationYear'] > 1979).value_counts()"
      ],
      "execution_count": null,
      "outputs": [
        {
          "output_type": "execute_result",
          "data": {
            "text/plain": [
              "True     244243\n",
              "False      1567\n",
              "Name: RegistrationYear, dtype: int64"
            ]
          },
          "metadata": {
            "tags": []
          },
          "execution_count": 18
        }
      ]
    },
    {
      "cell_type": "code",
      "metadata": {
        "id": "Ihy6_pBDN0ez",
        "colab": {
          "base_uri": "https://localhost:8080/"
        },
        "outputId": "3e35e6f3-d853-49f3-d43e-9ecda2f8a259"
      },
      "source": [
        "(df['Power'] > 2300).value_counts()"
      ],
      "execution_count": null,
      "outputs": [
        {
          "output_type": "execute_result",
          "data": {
            "text/plain": [
              "False    245775\n",
              "True         35\n",
              "Name: Power, dtype: int64"
            ]
          },
          "metadata": {
            "tags": []
          },
          "execution_count": 19
        }
      ]
    },
    {
      "cell_type": "code",
      "metadata": {
        "id": "OvNaiSb0N0e1",
        "colab": {
          "base_uri": "https://localhost:8080/"
        },
        "outputId": "3a0ec63b-0003-4a3c-fa89-1e027f0916c1"
      },
      "source": [
        "df['Kilometer'].value_counts()"
      ],
      "execution_count": null,
      "outputs": [
        {
          "output_type": "execute_result",
          "data": {
            "text/plain": [
              "150000    159060\n",
              "125000     27329\n",
              "100000     11085\n",
              "90000       9087\n",
              "80000       8003\n",
              "70000       6910\n",
              "60000       6126\n",
              "50000       5117\n",
              "40000       4074\n",
              "30000       3506\n",
              "20000       2815\n",
              "5000        1871\n",
              "10000        827\n",
              "Name: Kilometer, dtype: int64"
            ]
          },
          "metadata": {
            "tags": []
          },
          "execution_count": 20
        }
      ]
    },
    {
      "cell_type": "markdown",
      "metadata": {
        "id": "0BTlg8T6N0e3"
      },
      "source": [
        "**Вывод**\n",
        "\n",
        "Наблюдаем подозрительные данные по:\n",
        "- цене автомобилей имеются нулевые цены и очень низкие: 10 евро и подобные. Отфильтруем наблюдения от 100 евро, так как нулевые и низкие цены плохо повлияют на предсказание цены;\n",
        "- год регистрации автомобиля - имеются данные начала 20 века. Посчитаем, что для качества моделей требуется \"свежие\" автомобили. Возьмем данные начиная с 1980 года.\n",
        "- мощность двигателя у легкового автомобиля не может быть более 2200 л.с. (взят самый мощный супер кар). Так же отфильтруем выбросы."
      ]
    },
    {
      "cell_type": "code",
      "metadata": {
        "id": "6CQbmQQ9N0e4",
        "colab": {
          "base_uri": "https://localhost:8080/",
          "height": 414
        },
        "outputId": "a7bced93-c2ad-49a4-81c7-54cc6a1c9884"
      },
      "source": [
        "df = df.loc[df['Price'] > 99]\n",
        "df = df.loc[df['RegistrationYear'] > 1979]\n",
        "df = df.loc[df['Power'] < 2300]\n",
        "df"
      ],
      "execution_count": null,
      "outputs": [
        {
          "output_type": "execute_result",
          "data": {
            "text/html": [
              "<div>\n",
              "<style scoped>\n",
              "    .dataframe tbody tr th:only-of-type {\n",
              "        vertical-align: middle;\n",
              "    }\n",
              "\n",
              "    .dataframe tbody tr th {\n",
              "        vertical-align: top;\n",
              "    }\n",
              "\n",
              "    .dataframe thead th {\n",
              "        text-align: right;\n",
              "    }\n",
              "</style>\n",
              "<table border=\"1\" class=\"dataframe\">\n",
              "  <thead>\n",
              "    <tr style=\"text-align: right;\">\n",
              "      <th></th>\n",
              "      <th>Price</th>\n",
              "      <th>VehicleType</th>\n",
              "      <th>RegistrationYear</th>\n",
              "      <th>Gearbox</th>\n",
              "      <th>Power</th>\n",
              "      <th>Model</th>\n",
              "      <th>Kilometer</th>\n",
              "      <th>FuelType</th>\n",
              "      <th>Brand</th>\n",
              "      <th>NotRepaired</th>\n",
              "    </tr>\n",
              "  </thead>\n",
              "  <tbody>\n",
              "    <tr>\n",
              "      <th>0</th>\n",
              "      <td>1500</td>\n",
              "      <td>small</td>\n",
              "      <td>2001</td>\n",
              "      <td>manual</td>\n",
              "      <td>75</td>\n",
              "      <td>golf</td>\n",
              "      <td>150000</td>\n",
              "      <td>petrol</td>\n",
              "      <td>volkswagen</td>\n",
              "      <td>no</td>\n",
              "    </tr>\n",
              "    <tr>\n",
              "      <th>1</th>\n",
              "      <td>3600</td>\n",
              "      <td>small</td>\n",
              "      <td>2008</td>\n",
              "      <td>manual</td>\n",
              "      <td>69</td>\n",
              "      <td>fabia</td>\n",
              "      <td>90000</td>\n",
              "      <td>gasoline</td>\n",
              "      <td>skoda</td>\n",
              "      <td>no</td>\n",
              "    </tr>\n",
              "    <tr>\n",
              "      <th>2</th>\n",
              "      <td>650</td>\n",
              "      <td>sedan</td>\n",
              "      <td>1995</td>\n",
              "      <td>manual</td>\n",
              "      <td>102</td>\n",
              "      <td>3er</td>\n",
              "      <td>150000</td>\n",
              "      <td>petrol</td>\n",
              "      <td>bmw</td>\n",
              "      <td>yes</td>\n",
              "    </tr>\n",
              "    <tr>\n",
              "      <th>3</th>\n",
              "      <td>2200</td>\n",
              "      <td>convertible</td>\n",
              "      <td>2004</td>\n",
              "      <td>manual</td>\n",
              "      <td>109</td>\n",
              "      <td>2_reihe</td>\n",
              "      <td>150000</td>\n",
              "      <td>petrol</td>\n",
              "      <td>peugeot</td>\n",
              "      <td>no</td>\n",
              "    </tr>\n",
              "    <tr>\n",
              "      <th>5</th>\n",
              "      <td>2000</td>\n",
              "      <td>sedan</td>\n",
              "      <td>2004</td>\n",
              "      <td>manual</td>\n",
              "      <td>105</td>\n",
              "      <td>3_reihe</td>\n",
              "      <td>150000</td>\n",
              "      <td>petrol</td>\n",
              "      <td>mazda</td>\n",
              "      <td>no</td>\n",
              "    </tr>\n",
              "    <tr>\n",
              "      <th>...</th>\n",
              "      <td>...</td>\n",
              "      <td>...</td>\n",
              "      <td>...</td>\n",
              "      <td>...</td>\n",
              "      <td>...</td>\n",
              "      <td>...</td>\n",
              "      <td>...</td>\n",
              "      <td>...</td>\n",
              "      <td>...</td>\n",
              "      <td>...</td>\n",
              "    </tr>\n",
              "    <tr>\n",
              "      <th>245805</th>\n",
              "      <td>3999</td>\n",
              "      <td>wagon</td>\n",
              "      <td>2005</td>\n",
              "      <td>manual</td>\n",
              "      <td>3</td>\n",
              "      <td>3er</td>\n",
              "      <td>150000</td>\n",
              "      <td>gasoline</td>\n",
              "      <td>bmw</td>\n",
              "      <td>no</td>\n",
              "    </tr>\n",
              "    <tr>\n",
              "      <th>245806</th>\n",
              "      <td>3200</td>\n",
              "      <td>sedan</td>\n",
              "      <td>2004</td>\n",
              "      <td>manual</td>\n",
              "      <td>225</td>\n",
              "      <td>leon</td>\n",
              "      <td>150000</td>\n",
              "      <td>petrol</td>\n",
              "      <td>seat</td>\n",
              "      <td>yes</td>\n",
              "    </tr>\n",
              "    <tr>\n",
              "      <th>245807</th>\n",
              "      <td>1150</td>\n",
              "      <td>bus</td>\n",
              "      <td>2000</td>\n",
              "      <td>manual</td>\n",
              "      <td>0</td>\n",
              "      <td>zafira</td>\n",
              "      <td>150000</td>\n",
              "      <td>petrol</td>\n",
              "      <td>opel</td>\n",
              "      <td>no</td>\n",
              "    </tr>\n",
              "    <tr>\n",
              "      <th>245808</th>\n",
              "      <td>1199</td>\n",
              "      <td>convertible</td>\n",
              "      <td>2000</td>\n",
              "      <td>auto</td>\n",
              "      <td>101</td>\n",
              "      <td>fortwo</td>\n",
              "      <td>125000</td>\n",
              "      <td>petrol</td>\n",
              "      <td>smart</td>\n",
              "      <td>no</td>\n",
              "    </tr>\n",
              "    <tr>\n",
              "      <th>245809</th>\n",
              "      <td>9200</td>\n",
              "      <td>bus</td>\n",
              "      <td>1996</td>\n",
              "      <td>manual</td>\n",
              "      <td>102</td>\n",
              "      <td>transporter</td>\n",
              "      <td>150000</td>\n",
              "      <td>gasoline</td>\n",
              "      <td>volkswagen</td>\n",
              "      <td>no</td>\n",
              "    </tr>\n",
              "  </tbody>\n",
              "</table>\n",
              "<p>240245 rows × 10 columns</p>\n",
              "</div>"
            ],
            "text/plain": [
              "        Price  VehicleType  RegistrationYear  ...  FuelType       Brand NotRepaired\n",
              "0        1500        small              2001  ...    petrol  volkswagen          no\n",
              "1        3600        small              2008  ...  gasoline       skoda          no\n",
              "2         650        sedan              1995  ...    petrol         bmw         yes\n",
              "3        2200  convertible              2004  ...    petrol     peugeot          no\n",
              "5        2000        sedan              2004  ...    petrol       mazda          no\n",
              "...       ...          ...               ...  ...       ...         ...         ...\n",
              "245805   3999        wagon              2005  ...  gasoline         bmw          no\n",
              "245806   3200        sedan              2004  ...    petrol        seat         yes\n",
              "245807   1150          bus              2000  ...    petrol        opel          no\n",
              "245808   1199  convertible              2000  ...    petrol       smart          no\n",
              "245809   9200          bus              1996  ...  gasoline  volkswagen          no\n",
              "\n",
              "[240245 rows x 10 columns]"
            ]
          },
          "metadata": {
            "tags": []
          },
          "execution_count": 21
        }
      ]
    },
    {
      "cell_type": "markdown",
      "metadata": {
        "id": "Blzt0fc2N0e6"
      },
      "source": [
        "### Преобразование категориальных признаков в численные техникой прямого кодирования"
      ]
    },
    {
      "cell_type": "markdown",
      "metadata": {
        "id": "vfQEBR4Jc9DF"
      },
      "source": [
        "Преобразуем категориальные признаки в численные техникой прямого кодирования для моделей машинной обучения, которые не работают с числами."
      ]
    },
    {
      "cell_type": "code",
      "metadata": {
        "id": "iV9dltjgN0e6"
      },
      "source": [
        "df_dummies = pd.get_dummies(df, drop_first=True, dummy_na=True)"
      ],
      "execution_count": null,
      "outputs": []
    },
    {
      "cell_type": "code",
      "metadata": {
        "id": "0OD6qpuMN0e-",
        "colab": {
          "base_uri": "https://localhost:8080/"
        },
        "outputId": "31f18f35-7248-4bd6-f5c4-2510313b9208"
      },
      "source": [
        "df_dummies.info()"
      ],
      "execution_count": null,
      "outputs": [
        {
          "output_type": "stream",
          "text": [
            "<class 'pandas.core.frame.DataFrame'>\n",
            "Int64Index: 240245 entries, 0 to 245809\n",
            "Columns: 310 entries, Price to NotRepaired_nan\n",
            "dtypes: int64(4), uint8(306)\n",
            "memory usage: 79.3 MB\n"
          ],
          "name": "stdout"
        }
      ]
    },
    {
      "cell_type": "markdown",
      "metadata": {
        "id": "lNMbr-X6N0fA"
      },
      "source": [
        "Выделим целевой признак и признаки"
      ]
    },
    {
      "cell_type": "code",
      "metadata": {
        "id": "q7hceX3tN0fB",
        "colab": {
          "base_uri": "https://localhost:8080/"
        },
        "outputId": "cb8af48e-eddf-46e8-88ad-42e659b9fdf9"
      },
      "source": [
        "y = df_dummies['Price']\n",
        "X = df_dummies.drop('Price', axis = 1)\n",
        "X_train, X_test, y_train, y_test = train_test_split(X, y, \n",
        "                                                    test_size = 0.25, \n",
        "                                                    random_state = 42, \n",
        "                                                    shuffle = True)\n",
        "print('\\nПроверка деления на выборки\\n')\n",
        "print('Размер X_train:', X_train.shape)\n",
        "print('Размер X_test:', X_test.shape)\n",
        "print('Размер y_train:', y_train.shape)\n",
        "print('Размер y_test:', y_test.shape)"
      ],
      "execution_count": null,
      "outputs": [
        {
          "output_type": "stream",
          "text": [
            "\n",
            "Проверка деления на выборки\n",
            "\n",
            "Размер X_train: (180183, 309)\n",
            "Размер X_test: (60062, 309)\n",
            "Размер y_train: (180183,)\n",
            "Размер y_test: (60062,)\n"
          ],
          "name": "stdout"
        }
      ]
    },
    {
      "cell_type": "markdown",
      "metadata": {
        "id": "xJqZ9DuaN0fD"
      },
      "source": [
        "**Вывод**\n",
        "\n",
        "- Мы изучили данные\n",
        "- Удалили пропуски и дубликаты\n",
        "- Привели категориальные признаки в численные\n",
        "- Подготовили признаки и целевой признак для обучения моделей."
      ]
    },
    {
      "cell_type": "markdown",
      "metadata": {
        "id": "wgJzbKXeN0fF"
      },
      "source": [
        "# 2. Обучение моделей"
      ]
    },
    {
      "cell_type": "markdown",
      "metadata": {
        "id": "zXEgbosg9gR3"
      },
      "source": [
        "## Константная модель"
      ]
    },
    {
      "cell_type": "markdown",
      "metadata": {
        "id": "Z4FGodOX9oG2"
      },
      "source": [
        "Создадим константную модель для возможности проверки последующих моделей на адекватность. \n",
        "\n",
        "Предсказание - медиана обучающей выборки.\n",
        "\n"
      ]
    },
    {
      "cell_type": "code",
      "metadata": {
        "id": "0-3e6B9Xqngf"
      },
      "source": [
        "# Функция расчета метрики RMSE (root mean squared error)\n",
        "def make_rmse(y_true, y_pred):\n",
        "    return mean_squared_error(y_true, y_pred) ** 0.5"
      ],
      "execution_count": null,
      "outputs": []
    },
    {
      "cell_type": "code",
      "metadata": {
        "colab": {
          "base_uri": "https://localhost:8080/"
        },
        "id": "hnwYgYEZ934p",
        "outputId": "76e33230-1741-4e6f-8f52-8bb53096154a"
      },
      "source": [
        "# Создадим класс константной модели\n",
        "class ConstantModel:\n",
        "    \n",
        "    def fit(self, y_train):\n",
        "        self.median = y_train.median()\n",
        "\n",
        "    def predict(self, X_test):\n",
        "        return np.ones(len(X_test)) * self.median\n",
        "\n",
        "# Инициализируем модель\n",
        "model_const = ConstantModel()\n",
        "\n",
        "# Обучим модель\n",
        "start = timeit.default_timer()\n",
        "model_const.fit(y_train)\n",
        "stop = timeit.default_timer()\n",
        "\n",
        "fit_time_const = round(stop - start, 4)\n",
        "print('Время обучения константной модели: ', fit_time_const)\n",
        "\n",
        "# Получим предсказания на тестовой выборке\n",
        "start = timeit.default_timer()\n",
        "predict_const = model_const.predict(X_test)\n",
        "stop = timeit.default_timer()\n",
        "\n",
        "pred_time_const = round(stop - start, 4)\n",
        "print('Время предсказания константной модели: ', pred_time_const)\n",
        "\n",
        "# Проверим метрику получившейся модели\n",
        "rmse_const = round(make_rmse(y_test, predict_const), 2)\n",
        "print('RMSE константной модели на тестовой выборке:', rmse_const)\n",
        "\n",
        "# Соберем в список всю информацию по модели\n",
        "# Зафиксируем время, потребовавшееся для подготовки признаков, перед использованием модели - 0\n",
        "prep_time = 0.0\n",
        "lst_const = ['Constant model', prep_time, fit_time_const, pred_time_const, rmse_const]\n",
        "lst_const"
      ],
      "execution_count": null,
      "outputs": [
        {
          "output_type": "stream",
          "text": [
            "Время обучения константной модели:  0.0029\n",
            "Время предсказания константной модели:  0.0003\n",
            "RMSE константной модели на тестовой выборке: 5009.29\n"
          ],
          "name": "stdout"
        },
        {
          "output_type": "execute_result",
          "data": {
            "text/plain": [
              "['Constant model', 0.0, 0.0029, 0.0003, 5009.29]"
            ]
          },
          "metadata": {
            "tags": []
          },
          "execution_count": 26
        }
      ]
    },
    {
      "cell_type": "markdown",
      "metadata": {
        "id": "F79piRIuN0fg"
      },
      "source": [
        "## RandomForestRegressor"
      ]
    },
    {
      "cell_type": "markdown",
      "metadata": {
        "id": "Swnjm_BqQAx-"
      },
      "source": [
        "Подберём гиперпараметры для модели"
      ]
    },
    {
      "cell_type": "code",
      "metadata": {
        "id": "xUDC4KX3N0fh"
      },
      "source": [
        "%%time\n",
        "clf = RandomForestRegressor(random_state = 42, n_jobs = -1)\n",
        "\n",
        "parameter_grid = {'max_depth': [5, 10, 15],\n",
        "#  'max_features': ['auto', 'sqrt'],\n",
        "#  'min_samples_leaf': [1, 2, 5],\n",
        "#  'min_samples_split': [2, 5, 10],\n",
        " 'n_estimators': [100,200,300,]}\n",
        "\n",
        "grid_searcher = GridSearchCV(clf, parameter_grid, verbose= True, n_jobs = -1)\n",
        "\n",
        "grid_searcher.fit(X_train, y_train)\n",
        "\n",
        "print('Best params = ', grid_searcher.best_estimator_)"
      ],
      "execution_count": null,
      "outputs": []
    },
    {
      "cell_type": "markdown",
      "metadata": {
        "id": "lpqgA0ezQJVk"
      },
      "source": [
        "Мы будем использовать следующие гиперпараметры."
      ]
    },
    {
      "cell_type": "markdown",
      "metadata": {
        "id": "7MuaDZRcb7ZR"
      },
      "source": [
        "Best params =  RandomForestRegressor(bootstrap=True, ccp_alpha=0.0, criterion='mse',\n",
        "                      max_depth=15, max_features='auto', max_leaf_nodes=None,\n",
        "                      max_samples=None, min_impurity_decrease=0.0,\n",
        "                      min_impurity_split=None, min_samples_leaf=1,\n",
        "                      min_samples_split=2, min_weight_fraction_leaf=0.0,\n",
        "                      n_estimators=300, n_jobs=-1, oob_score=False,\n",
        "                      random_state=42, verbose=0, warm_start=False)\n",
        "\n",
        "CPU times: user 22min 55s, sys: 8.08 s, total: 23min 3s\n",
        "\n",
        "Wall time: 3h 38min 31s"
      ]
    },
    {
      "cell_type": "markdown",
      "metadata": {
        "id": "Y3U0IZVuQQA0"
      },
      "source": [
        "Обучим модель и сделаем предсказания"
      ]
    },
    {
      "cell_type": "code",
      "metadata": {
        "scrolled": true,
        "id": "cc2RTTlJN0fj",
        "colab": {
          "base_uri": "https://localhost:8080/"
        },
        "outputId": "c82f6a4c-a18c-44a9-f501-acff2c3dd6b9"
      },
      "source": [
        "%%time\n",
        "print('Расчеты на модели случаный лес для регрессии')\n",
        "model_forest = RandomForestRegressor(bootstrap=True, ccp_alpha=0.0, criterion='mse',\n",
        "                      max_depth=15, max_features='auto', max_leaf_nodes=None,\n",
        "                      max_samples=None, min_impurity_decrease=0.0,\n",
        "                      min_impurity_split=None, min_samples_leaf=1,\n",
        "                      min_samples_split=2, min_weight_fraction_leaf=0.0,\n",
        "                      n_estimators=300, n_jobs=-1, oob_score=False,\n",
        "                      random_state=42, verbose=0, warm_start=False)\n",
        "model_forest.fit(X_train, y_train)"
      ],
      "execution_count": null,
      "outputs": [
        {
          "output_type": "stream",
          "text": [
            "Расчеты на модели случаный лес для регрессии\n",
            "CPU times: user 22min 29s, sys: 2.1 s, total: 22min 31s\n",
            "Wall time: 11min 25s\n"
          ],
          "name": "stdout"
        }
      ]
    },
    {
      "cell_type": "code",
      "metadata": {
        "id": "11iqiN3kN0fm",
        "colab": {
          "base_uri": "https://localhost:8080/"
        },
        "outputId": "db9716e5-0ddc-4e29-e7b3-63ebd7e18a46"
      },
      "source": [
        "%%time\n",
        "y_pred = model_forest.predict(X_test)\n",
        "rmse = make_rmse(y_test, y_pred)\n",
        "print('rmse на модели RandomForestRegressor:', rmse)"
      ],
      "execution_count": null,
      "outputs": [
        {
          "output_type": "stream",
          "text": [
            "rmse на модели RandomForestRegressor: 1547.351800074839\n",
            "CPU times: user 3.27 s, sys: 7.88 ms, total: 3.28 s\n",
            "Wall time: 3.28 s\n"
          ],
          "name": "stdout"
        }
      ]
    },
    {
      "cell_type": "markdown",
      "metadata": {
        "id": "_RCLMJQ8N0fo"
      },
      "source": [
        "**Вывод**\n",
        "\n",
        "Модель RandomForestRegressor на тестовых данных показала следующие показатели:\n",
        "\n",
        "- Время обучения 11 min 25 s\n",
        "- Скорость предсказания 3.28 s\n",
        "- Качество предсказания метрика rmse: 1547"
      ]
    },
    {
      "cell_type": "markdown",
      "metadata": {
        "id": "5I4DTikJN0fp"
      },
      "source": [
        "## LinearRegression"
      ]
    },
    {
      "cell_type": "markdown",
      "metadata": {
        "id": "NahKWiwwQbJ2"
      },
      "source": [
        "Подберём гиперпараметры для модели"
      ]
    },
    {
      "cell_type": "code",
      "metadata": {
        "id": "j9knjGeDSmoO"
      },
      "source": [
        "%%time\n",
        "clf = LinearRegression(n_jobs = -1)\n",
        "\n",
        "parameter_grid = {\"fit_intercept\": [True, False],\n",
        "              \"normalize\": [True, False],\n",
        "             }\n",
        "\n",
        "grid_searcher = GridSearchCV(clf, parameter_grid, verbose= True, n_jobs = -1)\n",
        "\n",
        "grid_searcher.fit(X_train, y_train)\n",
        "\n",
        "print('Best params = ', grid_searcher.best_estimator_)"
      ],
      "execution_count": null,
      "outputs": []
    },
    {
      "cell_type": "markdown",
      "metadata": {
        "id": "BVNDoJVNgshA"
      },
      "source": [
        "Best params =  LinearRegression(copy_X=True, fit_intercept=True, n_jobs=-1, normalize=False)\n",
        "\n",
        "CPU times: user 9.1 s, sys: 935 ms, total: 10 s\n",
        "\n",
        "Wall time: 1min 26s"
      ]
    },
    {
      "cell_type": "markdown",
      "metadata": {
        "id": "ZkZcxoirQpTT"
      },
      "source": [
        "Обучим модель с гиперпараметрами и сделаем предсказания"
      ]
    },
    {
      "cell_type": "code",
      "metadata": {
        "colab": {
          "base_uri": "https://localhost:8080/"
        },
        "id": "JABTG_PPHeih",
        "outputId": "42fbd69e-ea8f-4013-e8f8-1e8db1abada7"
      },
      "source": [
        "%%time\n",
        "print('Расчеты на модели линейная регрессия')\n",
        "model_Linear = LinearRegression(copy_X=True, fit_intercept=True, n_jobs=-1, normalize=False)\n",
        "model_Linear.fit(X_train, y_train)"
      ],
      "execution_count": null,
      "outputs": [
        {
          "output_type": "stream",
          "text": [
            "Расчеты на модели линейная регрессия\n",
            "CPU times: user 8.06 s, sys: 436 ms, total: 8.5 s\n",
            "Wall time: 4.64 s\n"
          ],
          "name": "stdout"
        }
      ]
    },
    {
      "cell_type": "code",
      "metadata": {
        "colab": {
          "base_uri": "https://localhost:8080/"
        },
        "id": "8bRwuyJ3TFlP",
        "outputId": "7727d533-48d6-4f32-87a9-19c913de07da"
      },
      "source": [
        "%%time\n",
        "y_pred = model_Linear.predict(X_test)\n",
        "rmse = make_rmse(y_test, y_pred)\n",
        "print('rmse на модели LinearRegression:', rmse)"
      ],
      "execution_count": null,
      "outputs": [
        {
          "output_type": "stream",
          "text": [
            "rmse на модели LinearRegression: 2403.303552229627\n",
            "CPU times: user 165 ms, sys: 5.01 ms, total: 170 ms\n",
            "Wall time: 157 ms\n"
          ],
          "name": "stdout"
        }
      ]
    },
    {
      "cell_type": "markdown",
      "metadata": {
        "id": "MYOX6ZFbgOcs"
      },
      "source": [
        "**Вывод**\n",
        "\n",
        "Модель LinearRegression на тестовых данных показала следующие показатели:\n",
        "\n",
        "- Время обучения 4.64 s\n",
        "- Скорость предсказания 157 ms\n",
        "- Качество предсказания метрика rmse: 2403"
      ]
    },
    {
      "cell_type": "markdown",
      "metadata": {
        "id": "6LNqC_n8N0fG"
      },
      "source": [
        "## LGBMRegressor"
      ]
    },
    {
      "cell_type": "markdown",
      "metadata": {
        "id": "EI6_ZsADNFCI"
      },
      "source": [
        "Подберем гиперпараметры при помощи GridSearchCV"
      ]
    },
    {
      "cell_type": "code",
      "metadata": {
        "id": "R8wmdNzwN0fG"
      },
      "source": [
        "%%time\n",
        "clf = LGBMRegressor(\n",
        "    random_state = 42, \n",
        "    # device = 'gpu'\n",
        "    )\n",
        "\n",
        "parameter_grid = {\n",
        "            'num_leaves': [32, 64],\n",
        "            'max_depth': [-1, 10, 50],\n",
        "            'n_estimators': [1000, 3000],\n",
        "            'learning_rate' : [0.1, 0.01]\n",
        "                  }\n",
        "                  \n",
        "\n",
        "grid_searcher = GridSearchCV(clf, parameter_grid, verbose = 10, n_jobs = -1)\n",
        "grid_searcher.fit(X_train, y_train,\n",
        "                  eval_metric = 'rmse',\n",
        "                  eval_set = (X_test, y_test),\n",
        "                  early_stopping_rounds = 5,\n",
        "                  verbose = -1\n",
        "                  )\n",
        " \n",
        "print('Best params = ', grid_searcher.best_estimator_)"
      ],
      "execution_count": null,
      "outputs": []
    },
    {
      "cell_type": "markdown",
      "metadata": {
        "id": "OAmxcohJ4Wgt"
      },
      "source": [
        "Best params =  LGBMRegressor(boosting_type='gbdt', class_weight=None, colsample_bytree=1.0,\n",
        "              importance_type='split', learning_rate=0.1, max_depth=-1,\n",
        "              min_child_samples=20, min_child_weight=0.001, min_split_gain=0.0,\n",
        "              n_estimators=1000, n_jobs=-1, num_leaves=64, objective=None,\n",
        "              random_state=42, reg_alpha=0.0, reg_lambda=0.0, silent=True,\n",
        "              subsample=1.0, subsample_for_bin=200000, subsample_freq=0)\n",
        "\n",
        "CPU times: user 34.7 s, sys: 3.31 s, total: 38 s\n",
        "\n",
        "Wall time: 43min 29s"
      ]
    },
    {
      "cell_type": "markdown",
      "metadata": {
        "id": "h-Pu83uPN0fI"
      },
      "source": [
        "Обучим модель с подобранными гиперпараметрами."
      ]
    },
    {
      "cell_type": "code",
      "metadata": {
        "scrolled": true,
        "id": "Q4QBReg4N0fJ",
        "colab": {
          "base_uri": "https://localhost:8080/"
        },
        "outputId": "efa1f316-c5fa-4201-bd97-c94f6df030dd"
      },
      "source": [
        "%%time\n",
        "model_LGBM = LGBMRegressor(boosting_type='gbdt', class_weight=None, colsample_bytree=1.0,\n",
        "              importance_type='split', learning_rate=0.1, max_depth=-1,\n",
        "              min_child_samples=20, min_child_weight=0.001, min_split_gain=0.0,\n",
        "              n_estimators=1000, n_jobs=-1, num_leaves=64, objective=None,\n",
        "              random_state=42, reg_alpha=0.0, reg_lambda=0.0, silent=True,\n",
        "              subsample=1.0, subsample_for_bin=200000, subsample_freq=0)\n",
        "model_LGBM.fit(X_train, y_train)"
      ],
      "execution_count": null,
      "outputs": [
        {
          "output_type": "stream",
          "text": [
            "CPU times: user 22.6 s, sys: 291 ms, total: 22.9 s\n",
            "Wall time: 12.6 s\n"
          ],
          "name": "stdout"
        }
      ]
    },
    {
      "cell_type": "code",
      "metadata": {
        "id": "pkaPTIY5N0fL",
        "colab": {
          "base_uri": "https://localhost:8080/"
        },
        "outputId": "7055838e-6ed2-4877-d751-babd8c354d30"
      },
      "source": [
        "%%time\n",
        "predicted_test = model_LGBM.predict(X_test)\n",
        "rmse = np.sqrt(mean_squared_error(y_test, predicted_test))\n",
        "print('RMSE:', rmse)"
      ],
      "execution_count": null,
      "outputs": [
        {
          "output_type": "stream",
          "text": [
            "RMSE: 1473.8457640948855\n",
            "CPU times: user 7.1 s, sys: 30.9 ms, total: 7.13 s\n",
            "Wall time: 3.73 s\n"
          ],
          "name": "stdout"
        }
      ]
    },
    {
      "cell_type": "markdown",
      "metadata": {
        "id": "aDgmIt0jN0fM"
      },
      "source": [
        "**Вывод**\n",
        "\n",
        "Модель LGBMRegressor на тестовых данных показала следующие показатели:\n",
        "- Качество предсказания метрика rmse: 1474\n",
        "- Время обучения 10.3 s\n",
        "- Скорость предсказания 3.2 s"
      ]
    },
    {
      "cell_type": "markdown",
      "metadata": {
        "id": "qo3zw-xVN0fZ"
      },
      "source": [
        "## XGBoostRegressor"
      ]
    },
    {
      "cell_type": "markdown",
      "metadata": {
        "id": "-CqVEAIIQ2Eb"
      },
      "source": [
        "Подберем гиперпараметры"
      ]
    },
    {
      "cell_type": "code",
      "metadata": {
        "id": "kgObDGno-lgR"
      },
      "source": [
        "%%time\n",
        "# Various hyper-parameters to tune\n",
        "clf = XGBRegressor(tree_method='gpu_hist', gpu_id=0, n_jobs= -1, random_state=42)\n",
        "\n",
        "parameter_grid = {'nthread':[4], #when use hyperthread, xgboost may become slower\n",
        "              'objective':['reg:linear'],\n",
        "              'learning_rate': [0.03, 0.05, 0.07], #so called `eta` value\n",
        "              'max_depth': [-1, 5, 6, 7],\n",
        "              'min_child_weight': [4],\n",
        "              'silent': [1],\n",
        "              'subsample': [0.7],\n",
        "              'colsample_bytree': [0.7],\n",
        "              'n_estimators': [500]\n",
        "              }\n",
        "\n",
        "kf = KFold(n_splits = 5, random_state = 42)\n",
        "\n",
        "grid_searcher = GridSearchCV(clf, parameter_grid, verbose = True, cv = kf, n_jobs= -1)\n",
        "grid_searcher.fit(X_train, y_train)\n",
        "# clf_best = grid_searcher.best_estimator_\n",
        "\n",
        "print('Best score = ', grid_searcher.best_score_) \n",
        "print('Best parameters = ', grid_searcher.best_estimator_)"
      ],
      "execution_count": null,
      "outputs": []
    },
    {
      "cell_type": "markdown",
      "metadata": {
        "id": "GWvt8rzk4n-B"
      },
      "source": [
        "Best score =  0.888448966593732\n",
        "Best parameters =  XGBRegressor(base_score=0.5, booster='gbtree', colsample_bylevel=1,\n",
        "             colsample_bynode=1, colsample_bytree=0.7, gamma=0, gpu_id=0,\n",
        "             importance_type='gain', learning_rate=0.03, max_delta_step=0,\n",
        "             max_depth=7, min_child_weight=4, missing=None, n_estimators=500,\n",
        "             n_jobs=-1, nthread=4, objective='reg:linear', random_state=42,\n",
        "             reg_alpha=0, reg_lambda=1, scale_pos_weight=1, seed=None, silent=1,\n",
        "             subsample=0.7, tree_method='gpu_hist', verbosity=1)\n",
        "\n",
        "CPU times: user 13.2 s, sys: 1.07 s, total: 14.3 s\n",
        "\n",
        "Wall time: 5min 57s"
      ]
    },
    {
      "cell_type": "markdown",
      "metadata": {
        "id": "-5ZVlb8jQ-e_"
      },
      "source": [
        "Обучим модель с подобранными гиперпараметрами и сделаем предсказание"
      ]
    },
    {
      "cell_type": "code",
      "metadata": {
        "colab": {
          "base_uri": "https://localhost:8080/"
        },
        "id": "3Mo4fsJQC5XO",
        "outputId": "94492582-077f-4db1-ba5d-dbf4cc920be9"
      },
      "source": [
        "%%time\n",
        "model_XGBoost = XGBRegressor(base_score=0.5, booster='gbtree', colsample_bylevel=1,\n",
        "             colsample_bynode=1, colsample_bytree=0.7, gamma=0, gpu_id=0,\n",
        "             importance_type='gain', learning_rate=0.03, max_delta_step=0,\n",
        "             max_depth=7, min_child_weight=4, missing=None, n_estimators=500,\n",
        "             n_jobs=-1, nthread=4, objective='reg:linear', random_state=42,\n",
        "             reg_alpha=0, reg_lambda=1, scale_pos_weight=1, seed=None, silent=1,\n",
        "             subsample=0.7, tree_method='gpu_hist', verbosity=1)\n",
        "model_XGBoost.fit(X_train, y_train)"
      ],
      "execution_count": null,
      "outputs": [
        {
          "output_type": "stream",
          "text": [
            "CPU times: user 11.7 s, sys: 603 ms, total: 12.3 s\n",
            "Wall time: 12.3 s\n"
          ],
          "name": "stdout"
        }
      ]
    },
    {
      "cell_type": "code",
      "metadata": {
        "id": "DBa92CfkN0fe",
        "colab": {
          "base_uri": "https://localhost:8080/"
        },
        "outputId": "41b72972-c07d-48fb-df68-5db84ca09d3b"
      },
      "source": [
        "%%time\n",
        "y_pred = model_XGBoost.predict(X_test)\n",
        "rmse = np.sqrt(mean_squared_error(y_test, y_pred))\n",
        "print('rmse:', rmse)"
      ],
      "execution_count": null,
      "outputs": [
        {
          "output_type": "stream",
          "text": [
            "rmse: 1572.4511771960454\n",
            "CPU times: user 967 ms, sys: 2.37 ms, total: 970 ms\n",
            "Wall time: 966 ms\n"
          ],
          "name": "stdout"
        }
      ]
    },
    {
      "cell_type": "markdown",
      "metadata": {
        "id": "-d2J1bV4N0fg"
      },
      "source": [
        "**Вывод**\n",
        "\n",
        "Модель XGBoostRegressor на тестовых данных показала следующие показатели:\n",
        "- Качество предсказания метрика rmse: 1524\n",
        "- Время обучения 11.6 s\n",
        "- Скорость предсказания 1 s"
      ]
    },
    {
      "cell_type": "markdown",
      "metadata": {
        "id": "K90w6IDBN0fN"
      },
      "source": [
        "## CatBoostRegressor"
      ]
    },
    {
      "cell_type": "markdown",
      "metadata": {
        "id": "6icsC3QKdPVv"
      },
      "source": [
        "Подготовим признаки для модели CatBoost, которая умеет работать с категориальными признаками."
      ]
    },
    {
      "cell_type": "code",
      "metadata": {
        "id": "JyNcS8ZHN0fN",
        "colab": {
          "base_uri": "https://localhost:8080/"
        },
        "outputId": "a0ae0376-8450-4468-96c8-da684e0e6b35"
      },
      "source": [
        "y = df['Price']\n",
        "X = df.drop('Price', axis = 1)\n",
        "X_train, X_test, y_train, y_test = train_test_split(X, y, \n",
        "                                                    test_size = 0.25,\n",
        "                                                    random_state = 42, \n",
        "                                                    shuffle = True)\n",
        "print('Проверка деления на выборки')\n",
        "print('Размер X_train:', X_train.shape)\n",
        "print('Размер X_test:', X_test.shape)\n",
        "print('Размер y_train:', y_train.shape)\n",
        "print('Размер y_test:', y_test.shape)"
      ],
      "execution_count": null,
      "outputs": [
        {
          "output_type": "stream",
          "text": [
            "Проверка деления на выборки\n",
            "Размер X_train: (180183, 9)\n",
            "Размер X_test: (60062, 9)\n",
            "Размер y_train: (180183,)\n",
            "Размер y_test: (60062,)\n"
          ],
          "name": "stdout"
        }
      ]
    },
    {
      "cell_type": "code",
      "metadata": {
        "id": "0M1e_yBXN0fQ"
      },
      "source": [
        "cat_features = ['VehicleType', 'RegistrationYear', 'Gearbox', 'Power', 'Model',\n",
        "       'Kilometer', 'FuelType', 'Brand', 'NotRepaired']"
      ],
      "execution_count": null,
      "outputs": []
    },
    {
      "cell_type": "markdown",
      "metadata": {
        "id": "8Uqa8Jl6Gsz1"
      },
      "source": [
        "Мы будем использовать видеокарту для ускорения процесса подбора гиперпараметров и обучения модели."
      ]
    },
    {
      "cell_type": "code",
      "metadata": {
        "id": "tU9B4aZUN0fS"
      },
      "source": [
        "%%time\n",
        "clf = CatBoostRegressor(\n",
        "                        task_type= 'GPU',\n",
        "                        cat_features = cat_features, \n",
        "                        random_state = 42, \n",
        "                        early_stopping_rounds = 5\n",
        "                        )\n",
        "\n",
        "parameter_grid = {\n",
        "            'max_depth' : [1, 8, 16],\n",
        "            'n_estimators' : [1000, 3000, 5000],\n",
        "            'learning_rate' : [0.1, 0.01, 0.001]\n",
        "        }\n",
        "\n",
        "kf = KFold(n_splits = 5, random_state = 42)\n",
        "\n",
        "grid_searcher = GridSearchCV(clf, parameter_grid, verbose = 100, n_jobs = -1, cv = kf)\n",
        "grid_searcher.fit(X_train, y_train)\n",
        " \n",
        "print('Best params = ', grid_searcher.best_estimator_)"
      ],
      "execution_count": null,
      "outputs": []
    },
    {
      "cell_type": "markdown",
      "metadata": {
        "id": "fTmLXMX0Aj4O"
      },
      "source": [
        "Best params =  {'learning_rate': 0.1, 'loss_function': 'RMSE', 'task_type': 'GPU', 'max_depth': 8, 'n_estimators': 3000, 'random_state': 42, 'early_stopping_rounds': 5, 'cat_features': ['VehicleType', 'RegistrationYear', 'Gearbox', 'Power', 'Model', 'Kilometer', 'FuelType', 'Brand', 'NotRepaired']}\n",
        "\n",
        "\n",
        "CPU times: user 2min 40s, sys: 2min 38s, total: 5min 19s\n",
        "\n",
        "Wall time: 2h 41min 13s"
      ]
    },
    {
      "cell_type": "markdown",
      "metadata": {
        "id": "8KeGWpieRdzk"
      },
      "source": [
        "Обучим модель с подобранными гиперпараметрами и сделаем предсказание"
      ]
    },
    {
      "cell_type": "code",
      "metadata": {
        "scrolled": true,
        "id": "s6qbJeVoN0fU",
        "colab": {
          "base_uri": "https://localhost:8080/"
        },
        "outputId": "72ced142-2009-42f4-a3ff-e954cb056d31"
      },
      "source": [
        "%%time\n",
        "model_CatBoost = CatBoostRegressor(cat_features = cat_features, \n",
        "                                   max_depth = 8, \n",
        "                                   n_estimators = 3000, \n",
        "                                   verbose = 0,\n",
        "                                   task_type= 'GPU',\n",
        "                                   random_state = 42,\n",
        "                                   learning_rate = 0.1)\n",
        "model_CatBoost.fit(X_train, y_train)"
      ],
      "execution_count": null,
      "outputs": [
        {
          "output_type": "stream",
          "text": [
            "CPU times: user 56.7 s, sys: 14.3 s, total: 1min 11s\n",
            "Wall time: 51.5 s\n"
          ],
          "name": "stdout"
        }
      ]
    },
    {
      "cell_type": "code",
      "metadata": {
        "id": "10aV0u3ON0fW",
        "colab": {
          "base_uri": "https://localhost:8080/"
        },
        "outputId": "74019486-17c1-40e1-bfb1-dcdeeb1d5c3c"
      },
      "source": [
        "%%time\n",
        "predicted_test = model_CatBoost.predict(X_test)\n",
        "rmse = np.sqrt(mean_squared_error(y_test, predicted_test))\n",
        "print('RMSE:', rmse)"
      ],
      "execution_count": null,
      "outputs": [
        {
          "output_type": "stream",
          "text": [
            "RMSE: 2636.136108010434\n",
            "CPU times: user 1.31 s, sys: 193 ms, total: 1.5 s\n",
            "Wall time: 781 ms\n"
          ],
          "name": "stdout"
        }
      ]
    },
    {
      "cell_type": "markdown",
      "metadata": {
        "id": "ksJEM0uYN0fY"
      },
      "source": [
        "**Вывод**\n",
        "\n",
        "Модель CatBoostRegressor на тестовых данных показала следующие показатели:\n",
        "- Качество предсказания метрика rmse: 2484\n",
        "- Время обучения 1 min 47s\n",
        "- Скорость предсказания 666 ms"
      ]
    },
    {
      "cell_type": "markdown",
      "metadata": {
        "id": "r3THivF7N0ft"
      },
      "source": [
        "# 3. Анализ моделей"
      ]
    },
    {
      "cell_type": "markdown",
      "metadata": {
        "id": "swH_OnPsN0ft"
      },
      "source": [
        "Сведем в таблицу данные о моделях"
      ]
    },
    {
      "cell_type": "markdown",
      "metadata": {
        "id": "Xe21eclNN0fu"
      },
      "source": [
        "<table>\n",
        "    <tr><th>Показатель / Модель</th><th>LGBMRegressor</th><th>CatBoostRegressor</th><th>XGBoostRegressor</th><th>RandomForestRegressor</th><th>LinearRegression</th></tr>\n",
        "    <tr><td>Качество предсказания метрика rmse</td><td>1474</td><td>2484</td><td>1524</td><td>1547</td><td>2403</td></tr>\n",
        "    <tr><td>Скорость предсказания</td><td>3.2 s</td><td>666 ms</td><td>1 s</td><td>3.28 s</td><td>157 ms</td></tr>\n",
        "    <tr><td>Время обучения</td><td>10.3 s</td><td>1 min 47 s</td><td>11.6 s</td><td>11 min 25s</td><td>4.64 s</td></tr>\n",
        "</table>"
      ]
    },
    {
      "cell_type": "markdown",
      "metadata": {
        "id": "MjwsfpaPN0fu"
      },
      "source": [
        "**Вывод**\n",
        "\n",
        "По задаче Заказчику важны: качество предсказания; скорость предсказания; время обучения.\n",
        "\n",
        "По всем трём показателям лучше всего подходит модель LGBMRegressor. Она быстро обучается и дает лучшее качество."
      ]
    }
  ]
}