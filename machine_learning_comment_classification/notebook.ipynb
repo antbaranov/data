{
  "nbformat": 4,
  "nbformat_minor": 0,
  "metadata": {
    "colab": {
      "name": "project_machine_learning_comments_classification_nlp_GIT.ipynb",
      "provenance": [],
      "collapsed_sections": [],
      "toc_visible": true
    },
    "kernelspec": {
      "display_name": "Python 3",
      "language": "python",
      "name": "python3"
    },
    "language_info": {
      "codemirror_mode": {
        "name": "ipython",
        "version": 3
      },
      "file_extension": ".py",
      "mimetype": "text/x-python",
      "name": "python",
      "nbconvert_exporter": "python",
      "pygments_lexer": "ipython3",
      "version": "3.7.6"
    },
    "accelerator": "GPU"
  },
  "cells": [
    {
      "cell_type": "markdown",
      "metadata": {
        "id": "xaXPeXOWnoq-"
      },
      "source": [
        "# Машинное обучение для текстов. Обучение модели классифицировать комментарии на позитивные и негативные"
      ]
    },
    {
      "cell_type": "markdown",
      "metadata": {
        "id": "iVHIJHcs44pH"
      },
      "source": [
        "### Описание\n",
        "Интернет-магазин запускает новый сервис. Теперь пользователи могут редактировать и дополнять описания товаров, как в вики-сообществах. То есть клиенты предлагают свои правки и комментируют изменения других. Магазину нужен инструмент, который будет искать токсичные комментарии и отправлять их на модерацию. \n",
        "\n",
        "### Цель\n",
        "Обучим модель классифицировать комментарии на позитивные и негативные. В нашем распоряжении набор данных с разметкой о токсичности правок.\n",
        "\n",
        "Построим модель со значением метрики качества *F1* не меньше 0.75. \n",
        "\n",
        "### План по выполнению проекта\n",
        "\n",
        "1. Загрузка и подготовка данных\n",
        "2. Обучение несколько моделей\n",
        "3. Выводы\n",
        "\n",
        "### Описание данных\n",
        "\n",
        "Данные находятся в файле с признаком \"комментарий\" и целевым признаком \"0\", \"1\"."
      ]
    },
    {
      "cell_type": "markdown",
      "metadata": {
        "id": "eO4TIoHj44pX"
      },
      "source": [
        "# 1. Загрузка и подготовка данных\n",
        "\n",
        "Импортируем необходимые библиотеки для работы"
      ]
    },
    {
      "cell_type": "code",
      "metadata": {
        "id": "L9j-tQOO44pY",
        "colab": {
          "base_uri": "https://localhost:8080/"
        },
        "outputId": "74431bca-eb48-4056-8121-89ec43dd1244"
      },
      "source": [
        "import pandas as pd\n",
        "import numpy as np\n",
        "import seaborn as sns\n",
        "import re\n",
        "from nltk.stem import SnowballStemmer\n",
        "import nltk\n",
        "nltk.download('stopwords')\n",
        "nltk.download('wordnet')\n",
        "from nltk.corpus import wordnet, stopwords\n",
        "import spacy\n",
        "from sklearn.feature_extraction.text import TfidfVectorizer\n",
        "from sklearn.model_selection import train_test_split, GridSearchCV\n",
        "from sklearn.linear_model import LogisticRegression\n",
        "from sklearn.metrics import f1_score, classification_report\n",
        "import matplotlib.pyplot as plt\n",
        "from sklearn.dummy import DummyClassifier"
      ],
      "execution_count": null,
      "outputs": [
        {
          "output_type": "stream",
          "text": [
            "[nltk_data] Downloading package stopwords to /root/nltk_data...\n",
            "[nltk_data]   Package stopwords is already up-to-date!\n",
            "[nltk_data] Downloading package wordnet to /root/nltk_data...\n",
            "[nltk_data]   Package wordnet is already up-to-date!\n"
          ],
          "name": "stdout"
        }
      ]
    },
    {
      "cell_type": "markdown",
      "metadata": {
        "id": "-r26gMwor0ss"
      },
      "source": [
        "Загрузим и выведем информацию о данных"
      ]
    },
    {
      "cell_type": "code",
      "metadata": {
        "id": "vJ3xra5BJcdd"
      },
      "source": [
        "df = pd.read_csv('toxic_comments.csv')"
      ],
      "execution_count": null,
      "outputs": []
    },
    {
      "cell_type": "code",
      "metadata": {
        "colab": {
          "base_uri": "https://localhost:8080/",
          "height": 347
        },
        "id": "-40-RhjO44pk",
        "outputId": "e5b008ef-4bab-49c4-f4bd-926157d0e93d"
      },
      "source": [
        "df.head(10)"
      ],
      "execution_count": null,
      "outputs": [
        {
          "output_type": "execute_result",
          "data": {
            "text/html": [
              "<div>\n",
              "<style scoped>\n",
              "    .dataframe tbody tr th:only-of-type {\n",
              "        vertical-align: middle;\n",
              "    }\n",
              "\n",
              "    .dataframe tbody tr th {\n",
              "        vertical-align: top;\n",
              "    }\n",
              "\n",
              "    .dataframe thead th {\n",
              "        text-align: right;\n",
              "    }\n",
              "</style>\n",
              "<table border=\"1\" class=\"dataframe\">\n",
              "  <thead>\n",
              "    <tr style=\"text-align: right;\">\n",
              "      <th></th>\n",
              "      <th>text</th>\n",
              "      <th>toxic</th>\n",
              "    </tr>\n",
              "  </thead>\n",
              "  <tbody>\n",
              "    <tr>\n",
              "      <th>0</th>\n",
              "      <td>Explanation\\nWhy the edits made under my usern...</td>\n",
              "      <td>0</td>\n",
              "    </tr>\n",
              "    <tr>\n",
              "      <th>1</th>\n",
              "      <td>D'aww! He matches this background colour I'm s...</td>\n",
              "      <td>0</td>\n",
              "    </tr>\n",
              "    <tr>\n",
              "      <th>2</th>\n",
              "      <td>Hey man, I'm really not trying to edit war. It...</td>\n",
              "      <td>0</td>\n",
              "    </tr>\n",
              "    <tr>\n",
              "      <th>3</th>\n",
              "      <td>\"\\nMore\\nI can't make any real suggestions on ...</td>\n",
              "      <td>0</td>\n",
              "    </tr>\n",
              "    <tr>\n",
              "      <th>4</th>\n",
              "      <td>You, sir, are my hero. Any chance you remember...</td>\n",
              "      <td>0</td>\n",
              "    </tr>\n",
              "    <tr>\n",
              "      <th>5</th>\n",
              "      <td>\"\\n\\nCongratulations from me as well, use the ...</td>\n",
              "      <td>0</td>\n",
              "    </tr>\n",
              "    <tr>\n",
              "      <th>6</th>\n",
              "      <td>COCKSUCKER BEFORE YOU PISS AROUND ON MY WORK</td>\n",
              "      <td>1</td>\n",
              "    </tr>\n",
              "    <tr>\n",
              "      <th>7</th>\n",
              "      <td>Your vandalism to the Matt Shirvington article...</td>\n",
              "      <td>0</td>\n",
              "    </tr>\n",
              "    <tr>\n",
              "      <th>8</th>\n",
              "      <td>Sorry if the word 'nonsense' was offensive to ...</td>\n",
              "      <td>0</td>\n",
              "    </tr>\n",
              "    <tr>\n",
              "      <th>9</th>\n",
              "      <td>alignment on this subject and which are contra...</td>\n",
              "      <td>0</td>\n",
              "    </tr>\n",
              "  </tbody>\n",
              "</table>\n",
              "</div>"
            ],
            "text/plain": [
              "                                                text  toxic\n",
              "0  Explanation\\nWhy the edits made under my usern...      0\n",
              "1  D'aww! He matches this background colour I'm s...      0\n",
              "2  Hey man, I'm really not trying to edit war. It...      0\n",
              "3  \"\\nMore\\nI can't make any real suggestions on ...      0\n",
              "4  You, sir, are my hero. Any chance you remember...      0\n",
              "5  \"\\n\\nCongratulations from me as well, use the ...      0\n",
              "6       COCKSUCKER BEFORE YOU PISS AROUND ON MY WORK      1\n",
              "7  Your vandalism to the Matt Shirvington article...      0\n",
              "8  Sorry if the word 'nonsense' was offensive to ...      0\n",
              "9  alignment on this subject and which are contra...      0"
            ]
          },
          "metadata": {
            "tags": []
          },
          "execution_count": 27
        }
      ]
    },
    {
      "cell_type": "code",
      "metadata": {
        "colab": {
          "base_uri": "https://localhost:8080/"
        },
        "id": "gIvPZK6U44pr",
        "outputId": "86dbbdf8-a324-4ac8-d58c-952447f6d231"
      },
      "source": [
        "df.info()"
      ],
      "execution_count": null,
      "outputs": [
        {
          "output_type": "stream",
          "text": [
            "<class 'pandas.core.frame.DataFrame'>\n",
            "RangeIndex: 159571 entries, 0 to 159570\n",
            "Data columns (total 2 columns):\n",
            " #   Column  Non-Null Count   Dtype \n",
            "---  ------  --------------   ----- \n",
            " 0   text    159571 non-null  object\n",
            " 1   toxic   159571 non-null  int64 \n",
            "dtypes: int64(1), object(1)\n",
            "memory usage: 2.4+ MB\n"
          ],
          "name": "stdout"
        }
      ]
    },
    {
      "cell_type": "code",
      "metadata": {
        "colab": {
          "base_uri": "https://localhost:8080/"
        },
        "id": "iDnG-vdNpKIh",
        "outputId": "a94b9210-c124-43ee-c2dd-667513d7db72"
      },
      "source": [
        "print('Количество дублирующихся строк:', df.duplicated().sum())"
      ],
      "execution_count": null,
      "outputs": [
        {
          "output_type": "stream",
          "text": [
            "Количество дублирующихся строк: 0\n"
          ],
          "name": "stdout"
        }
      ]
    },
    {
      "cell_type": "markdown",
      "metadata": {
        "id": "WXUJlNjyFCWw"
      },
      "source": [
        "Проверим баланс классов"
      ]
    },
    {
      "cell_type": "code",
      "metadata": {
        "colab": {
          "base_uri": "https://localhost:8080/",
          "height": 442
        },
        "id": "a9s_EwjflVzj",
        "outputId": "0340374a-d413-40d3-c7e4-0480b94dc2c6"
      },
      "source": [
        "print('Соотношение классов')\n",
        "print(df['toxic'].value_counts())\n",
        "sns.set()\n",
        "plt.title(\"\\nГрафик соотношения классов лейблов\")\n",
        "sns.countplot(df['toxic'])\n",
        "plt.show()"
      ],
      "execution_count": null,
      "outputs": [
        {
          "output_type": "stream",
          "text": [
            "Соотношение классов\n",
            "0    143346\n",
            "1     16225\n",
            "Name: toxic, dtype: int64\n"
          ],
          "name": "stdout"
        },
        {
          "output_type": "stream",
          "text": [
            "/usr/local/lib/python3.7/dist-packages/seaborn/_decorators.py:43: FutureWarning: Pass the following variable as a keyword arg: x. From version 0.12, the only valid positional argument will be `data`, and passing other arguments without an explicit keyword will result in an error or misinterpretation.\n",
            "  FutureWarning\n"
          ],
          "name": "stderr"
        },
        {
          "output_type": "display_data",
          "data": {
            "image/png": "[encoded data removed]",
            "text/plain": [
              "<Figure size 432x288 with 1 Axes>"
            ]
          },
          "metadata": {
            "tags": []
          }
        }
      ]
    },
    {
      "cell_type": "markdown",
      "metadata": {
        "id": "ZDJHaSWgouim"
      },
      "source": [
        "### Вывод\n",
        "- В нашем распоряжении данные (тексты на английском языке), состоящие из признака (комментарии) и целевого признака (лейбл токсичности комментария). \n",
        "- Данные без пропусков, без дубликатов. \n",
        "- Имеются мусорные спец. символы. \n",
        "- Имеется сильный дисбаланс в лейблах."
      ]
    },
    {
      "cell_type": "markdown",
      "metadata": {
        "id": "cP6xAAjzqGzt"
      },
      "source": [
        "## Проведем стемминг и очистку текста от спец символов"
      ]
    },
    {
      "cell_type": "markdown",
      "metadata": {
        "id": "NflKZnmxsz-V"
      },
      "source": [
        "Проведем стемминг (поиск основы словоформы) с очисткой от специальных символов (при помощи SnowballStemmer и регулярного выражения)"
      ]
    },
    {
      "cell_type": "code",
      "metadata": {
        "colab": {
          "base_uri": "https://localhost:8080/",
          "height": 442
        },
        "id": "mJ0bV0i3sfA_",
        "outputId": "1e456233-6c20-4d2a-8eec-391845a8f8b6"
      },
      "source": [
        "%%time\n",
        "# Создадим функцию для очистки текта от мусорных символов\n",
        "def make_clear_text(text):\n",
        "    clear_text = \" \".join(re.sub(r'[^a-zA-Z ]', ' ', text).split())\n",
        "    return clear_text\n",
        "\n",
        "df['text_stem'] = (df['text'].apply(make_clear_text))\n",
        "display(df)"
      ],
      "execution_count": null,
      "outputs": [
        {
          "output_type": "display_data",
          "data": {
            "text/html": [
              "<div>\n",
              "<style scoped>\n",
              "    .dataframe tbody tr th:only-of-type {\n",
              "        vertical-align: middle;\n",
              "    }\n",
              "\n",
              "    .dataframe tbody tr th {\n",
              "        vertical-align: top;\n",
              "    }\n",
              "\n",
              "    .dataframe thead th {\n",
              "        text-align: right;\n",
              "    }\n",
              "</style>\n",
              "<table border=\"1\" class=\"dataframe\">\n",
              "  <thead>\n",
              "    <tr style=\"text-align: right;\">\n",
              "      <th></th>\n",
              "      <th>text</th>\n",
              "      <th>toxic</th>\n",
              "      <th>text_stem</th>\n",
              "    </tr>\n",
              "  </thead>\n",
              "  <tbody>\n",
              "    <tr>\n",
              "      <th>0</th>\n",
              "      <td>Explanation\\nWhy the edits made under my usern...</td>\n",
              "      <td>0</td>\n",
              "      <td>Explanation Why the edits made under my userna...</td>\n",
              "    </tr>\n",
              "    <tr>\n",
              "      <th>1</th>\n",
              "      <td>D'aww! He matches this background colour I'm s...</td>\n",
              "      <td>0</td>\n",
              "      <td>D aww He matches this background colour I m se...</td>\n",
              "    </tr>\n",
              "    <tr>\n",
              "      <th>2</th>\n",
              "      <td>Hey man, I'm really not trying to edit war. It...</td>\n",
              "      <td>0</td>\n",
              "      <td>Hey man I m really not trying to edit war It s...</td>\n",
              "    </tr>\n",
              "    <tr>\n",
              "      <th>3</th>\n",
              "      <td>\"\\nMore\\nI can't make any real suggestions on ...</td>\n",
              "      <td>0</td>\n",
              "      <td>More I can t make any real suggestions on impr...</td>\n",
              "    </tr>\n",
              "    <tr>\n",
              "      <th>4</th>\n",
              "      <td>You, sir, are my hero. Any chance you remember...</td>\n",
              "      <td>0</td>\n",
              "      <td>You sir are my hero Any chance you remember wh...</td>\n",
              "    </tr>\n",
              "    <tr>\n",
              "      <th>...</th>\n",
              "      <td>...</td>\n",
              "      <td>...</td>\n",
              "      <td>...</td>\n",
              "    </tr>\n",
              "    <tr>\n",
              "      <th>159566</th>\n",
              "      <td>\":::::And for the second time of asking, when ...</td>\n",
              "      <td>0</td>\n",
              "      <td>And for the second time of asking when your vi...</td>\n",
              "    </tr>\n",
              "    <tr>\n",
              "      <th>159567</th>\n",
              "      <td>You should be ashamed of yourself \\n\\nThat is ...</td>\n",
              "      <td>0</td>\n",
              "      <td>You should be ashamed of yourself That is a ho...</td>\n",
              "    </tr>\n",
              "    <tr>\n",
              "      <th>159568</th>\n",
              "      <td>Spitzer \\n\\nUmm, theres no actual article for ...</td>\n",
              "      <td>0</td>\n",
              "      <td>Spitzer Umm theres no actual article for prost...</td>\n",
              "    </tr>\n",
              "    <tr>\n",
              "      <th>159569</th>\n",
              "      <td>And it looks like it was actually you who put ...</td>\n",
              "      <td>0</td>\n",
              "      <td>And it looks like it was actually you who put ...</td>\n",
              "    </tr>\n",
              "    <tr>\n",
              "      <th>159570</th>\n",
              "      <td>\"\\nAnd ... I really don't think you understand...</td>\n",
              "      <td>0</td>\n",
              "      <td>And I really don t think you understand I came...</td>\n",
              "    </tr>\n",
              "  </tbody>\n",
              "</table>\n",
              "<p>159571 rows × 3 columns</p>\n",
              "</div>"
            ],
            "text/plain": [
              "                                                     text  ...                                          text_stem\n",
              "0       Explanation\\nWhy the edits made under my usern...  ...  Explanation Why the edits made under my userna...\n",
              "1       D'aww! He matches this background colour I'm s...  ...  D aww He matches this background colour I m se...\n",
              "2       Hey man, I'm really not trying to edit war. It...  ...  Hey man I m really not trying to edit war It s...\n",
              "3       \"\\nMore\\nI can't make any real suggestions on ...  ...  More I can t make any real suggestions on impr...\n",
              "4       You, sir, are my hero. Any chance you remember...  ...  You sir are my hero Any chance you remember wh...\n",
              "...                                                   ...  ...                                                ...\n",
              "159566  \":::::And for the second time of asking, when ...  ...  And for the second time of asking when your vi...\n",
              "159567  You should be ashamed of yourself \\n\\nThat is ...  ...  You should be ashamed of yourself That is a ho...\n",
              "159568  Spitzer \\n\\nUmm, theres no actual article for ...  ...  Spitzer Umm theres no actual article for prost...\n",
              "159569  And it looks like it was actually you who put ...  ...  And it looks like it was actually you who put ...\n",
              "159570  \"\\nAnd ... I really don't think you understand...  ...  And I really don t think you understand I came...\n",
              "\n",
              "[159571 rows x 3 columns]"
            ]
          },
          "metadata": {
            "tags": []
          }
        },
        {
          "output_type": "stream",
          "text": [
            "CPU times: user 2.05 s, sys: 48.9 ms, total: 2.1 s\n",
            "Wall time: 2.11 s\n"
          ],
          "name": "stdout"
        }
      ]
    },
    {
      "cell_type": "code",
      "metadata": {
        "colab": {
          "base_uri": "https://localhost:8080/",
          "height": 442
        },
        "id": "sbjUGvU-44p5",
        "outputId": "f7afde26-9c55-4632-8747-6d1b62a61010"
      },
      "source": [
        "%%time\n",
        "# Создадим функцию для стемминга\n",
        "\n",
        "\n",
        "def make_stem(text):\n",
        "    english_stemmer = SnowballStemmer('english')\n",
        "\n",
        "    stem_list = []\n",
        "    for word in text.split():\n",
        "        stem_list.append(english_stemmer.stem(word))\n",
        "    stem = \" \".join(stem_list)\n",
        "    return stem\n",
        "\n",
        "df['text_stem'] = df['text_stem'].apply(make_stem)\n",
        "\n",
        "\n",
        "display(df)"
      ],
      "execution_count": null,
      "outputs": [
        {
          "output_type": "display_data",
          "data": {
            "text/html": [
              "<div>\n",
              "<style scoped>\n",
              "    .dataframe tbody tr th:only-of-type {\n",
              "        vertical-align: middle;\n",
              "    }\n",
              "\n",
              "    .dataframe tbody tr th {\n",
              "        vertical-align: top;\n",
              "    }\n",
              "\n",
              "    .dataframe thead th {\n",
              "        text-align: right;\n",
              "    }\n",
              "</style>\n",
              "<table border=\"1\" class=\"dataframe\">\n",
              "  <thead>\n",
              "    <tr style=\"text-align: right;\">\n",
              "      <th></th>\n",
              "      <th>text</th>\n",
              "      <th>toxic</th>\n",
              "      <th>text_stem</th>\n",
              "    </tr>\n",
              "  </thead>\n",
              "  <tbody>\n",
              "    <tr>\n",
              "      <th>0</th>\n",
              "      <td>Explanation\\nWhy the edits made under my usern...</td>\n",
              "      <td>0</td>\n",
              "      <td>explan whi the edit made under my usernam hard...</td>\n",
              "    </tr>\n",
              "    <tr>\n",
              "      <th>1</th>\n",
              "      <td>D'aww! He matches this background colour I'm s...</td>\n",
              "      <td>0</td>\n",
              "      <td>d aww he match this background colour i m seem...</td>\n",
              "    </tr>\n",
              "    <tr>\n",
              "      <th>2</th>\n",
              "      <td>Hey man, I'm really not trying to edit war. It...</td>\n",
              "      <td>0</td>\n",
              "      <td>hey man i m realli not tri to edit war it s ju...</td>\n",
              "    </tr>\n",
              "    <tr>\n",
              "      <th>3</th>\n",
              "      <td>\"\\nMore\\nI can't make any real suggestions on ...</td>\n",
              "      <td>0</td>\n",
              "      <td>more i can t make ani real suggest on improv i...</td>\n",
              "    </tr>\n",
              "    <tr>\n",
              "      <th>4</th>\n",
              "      <td>You, sir, are my hero. Any chance you remember...</td>\n",
              "      <td>0</td>\n",
              "      <td>you sir are my hero ani chanc you rememb what ...</td>\n",
              "    </tr>\n",
              "    <tr>\n",
              "      <th>...</th>\n",
              "      <td>...</td>\n",
              "      <td>...</td>\n",
              "      <td>...</td>\n",
              "    </tr>\n",
              "    <tr>\n",
              "      <th>159566</th>\n",
              "      <td>\":::::And for the second time of asking, when ...</td>\n",
              "      <td>0</td>\n",
              "      <td>and for the second time of ask when your view ...</td>\n",
              "    </tr>\n",
              "    <tr>\n",
              "      <th>159567</th>\n",
              "      <td>You should be ashamed of yourself \\n\\nThat is ...</td>\n",
              "      <td>0</td>\n",
              "      <td>you should be asham of yourself that is a horr...</td>\n",
              "    </tr>\n",
              "    <tr>\n",
              "      <th>159568</th>\n",
              "      <td>Spitzer \\n\\nUmm, theres no actual article for ...</td>\n",
              "      <td>0</td>\n",
              "      <td>spitzer umm there no actual articl for prostit...</td>\n",
              "    </tr>\n",
              "    <tr>\n",
              "      <th>159569</th>\n",
              "      <td>And it looks like it was actually you who put ...</td>\n",
              "      <td>0</td>\n",
              "      <td>and it look like it was actual you who put on ...</td>\n",
              "    </tr>\n",
              "    <tr>\n",
              "      <th>159570</th>\n",
              "      <td>\"\\nAnd ... I really don't think you understand...</td>\n",
              "      <td>0</td>\n",
              "      <td>and i realli don t think you understand i came...</td>\n",
              "    </tr>\n",
              "  </tbody>\n",
              "</table>\n",
              "<p>159571 rows × 3 columns</p>\n",
              "</div>"
            ],
            "text/plain": [
              "                                                     text  ...                                          text_stem\n",
              "0       Explanation\\nWhy the edits made under my usern...  ...  explan whi the edit made under my usernam hard...\n",
              "1       D'aww! He matches this background colour I'm s...  ...  d aww he match this background colour i m seem...\n",
              "2       Hey man, I'm really not trying to edit war. It...  ...  hey man i m realli not tri to edit war it s ju...\n",
              "3       \"\\nMore\\nI can't make any real suggestions on ...  ...  more i can t make ani real suggest on improv i...\n",
              "4       You, sir, are my hero. Any chance you remember...  ...  you sir are my hero ani chanc you rememb what ...\n",
              "...                                                   ...  ...                                                ...\n",
              "159566  \":::::And for the second time of asking, when ...  ...  and for the second time of ask when your view ...\n",
              "159567  You should be ashamed of yourself \\n\\nThat is ...  ...  you should be asham of yourself that is a horr...\n",
              "159568  Spitzer \\n\\nUmm, theres no actual article for ...  ...  spitzer umm there no actual articl for prostit...\n",
              "159569  And it looks like it was actually you who put ...  ...  and it look like it was actual you who put on ...\n",
              "159570  \"\\nAnd ... I really don't think you understand...  ...  and i realli don t think you understand i came...\n",
              "\n",
              "[159571 rows x 3 columns]"
            ]
          },
          "metadata": {
            "tags": []
          }
        },
        {
          "output_type": "stream",
          "text": [
            "CPU times: user 2min 4s, sys: 297 ms, total: 2min 5s\n",
            "Wall time: 2min 5s\n"
          ],
          "name": "stdout"
        }
      ]
    },
    {
      "cell_type": "markdown",
      "metadata": {
        "id": "P477ZvOfqsma"
      },
      "source": [
        "Текст очистили от мусорных символов."
      ]
    },
    {
      "cell_type": "markdown",
      "metadata": {
        "id": "v6PfMpgIr8bD"
      },
      "source": [
        "Разделим исходный данные на тренировочную и тестовую выборки."
      ]
    },
    {
      "cell_type": "code",
      "metadata": {
        "id": "gQqrSznk44qA"
      },
      "source": [
        "train, test = train_test_split(df, test_size = 0.1, random_state = 1)"
      ],
      "execution_count": null,
      "outputs": []
    },
    {
      "cell_type": "markdown",
      "metadata": {
        "id": "1MG4j2PZsKWC"
      },
      "source": [
        "Создадам корпус слов, привядя к кодировки UTF-8 (признак) и целевой признак"
      ]
    },
    {
      "cell_type": "code",
      "metadata": {
        "id": "pr7H-l9K44qI"
      },
      "source": [
        "corpus_train = train['text_stem'].values.astype('U')\n",
        "target_train = train['toxic']"
      ],
      "execution_count": null,
      "outputs": []
    },
    {
      "cell_type": "markdown",
      "metadata": {
        "id": "qcBTzVmesawf"
      },
      "source": [
        "Проведем кодирование (трансформирование) слов в цифровую матрицу.\n",
        "\n",
        "Оценка важности слова определяется величиной TF-IDF (от англ. term frequency, «частота терма, или слова»; inverse document frequency, «обратная частота документа, или текста»). То есть TF отвечает за количество упоминаний слова в отдельном тексте, а IDF отражает частоту его употребления во всём корпусе."
      ]
    },
    {
      "cell_type": "markdown",
      "metadata": {
        "id": "5pUyHaoiunRG"
      },
      "source": [
        "Мы будем использовать словарь стоп-слов, чтобы неприемлимые комментарии отправлялись на модерацию."
      ]
    },
    {
      "cell_type": "code",
      "metadata": {
        "colab": {
          "base_uri": "https://localhost:8080/",
          "height": 318
        },
        "id": "o8grVF2D44qM",
        "outputId": "09277d9a-6fdd-4641-f10d-7a06a935be03"
      },
      "source": [
        "%%time\n",
        "nltk.download('stopwords')\n",
        "stopwords = set(stopwords.words('english'))\n",
        "count_tf_idf = TfidfVectorizer(stop_words=stopwords)\n",
        "display(count_tf_idf)\n",
        "tf_idf_train = count_tf_idf.fit_transform(corpus_train)\n",
        "\n",
        "corpus_test = test['text_stem'].values.astype('U')\n",
        "target_test = test['toxic']\n",
        "tf_idf_test = count_tf_idf.transform(corpus_test)\n",
        "tf_idf_test.shape"
      ],
      "execution_count": null,
      "outputs": [
        {
          "output_type": "stream",
          "text": [
            "[nltk_data] Downloading package stopwords to /root/nltk_data...\n",
            "[nltk_data]   Package stopwords is already up-to-date!\n"
          ],
          "name": "stdout"
        },
        {
          "output_type": "display_data",
          "data": {
            "text/plain": [
              "TfidfVectorizer(analyzer='word', binary=False, decode_error='strict',\n",
              "                dtype=<class 'numpy.float64'>, encoding='utf-8',\n",
              "                input='content', lowercase=True, max_df=1.0, max_features=None,\n",
              "                min_df=1, ngram_range=(1, 1), norm='l2', preprocessor=None,\n",
              "                smooth_idf=True,\n",
              "                stop_words={'a', 'about', 'above', 'after', 'again', 'against',\n",
              "                            'ain', 'all', 'am', 'an', 'and', 'any', 'are',\n",
              "                            'aren', \"aren't\", 'as', 'at', 'be', 'because',\n",
              "                            'been', 'before', 'being', 'below', 'between',\n",
              "                            'both', 'but', 'by', 'can', 'couldn', \"couldn't\", ...},\n",
              "                strip_accents=None, sublinear_tf=False,\n",
              "                token_pattern='(?u)\\\\b\\\\w\\\\w+\\\\b', tokenizer=None, use_idf=True,\n",
              "                vocabulary=None)"
            ]
          },
          "metadata": {
            "tags": []
          }
        },
        {
          "output_type": "stream",
          "text": [
            "CPU times: user 11 s, sys: 310 ms, total: 11.3 s\n",
            "Wall time: 11.3 s\n"
          ],
          "name": "stdout"
        }
      ]
    },
    {
      "cell_type": "code",
      "metadata": {
        "colab": {
          "base_uri": "https://localhost:8080/"
        },
        "id": "cO5a1S1P44qR",
        "outputId": "3c6d4162-82fa-4285-8d87-c16b3a4a33e0"
      },
      "source": [
        "print(\"Размер матрицы:\", tf_idf_train.shape)"
      ],
      "execution_count": null,
      "outputs": [
        {
          "output_type": "stream",
          "text": [
            "Размер матрицы: (143613, 123937)\n"
          ],
          "name": "stdout"
        }
      ]
    },
    {
      "cell_type": "markdown",
      "metadata": {
        "id": "GF-EJVsV44p_"
      },
      "source": [
        "# 2. Обучение"
      ]
    },
    {
      "cell_type": "markdown",
      "metadata": {
        "id": "6cJM9pxe0xiW"
      },
      "source": [
        "Мы обучим модели, которые справляются с цифрами матрицами и текстами:\n",
        "- Логистическую регрессию LogisticRegression\n",
        "- Предобученную модель BERT (Bidirectional Encoder Representations from Transformers - Двунаправленные представления кодировщика от Transformers)"
      ]
    },
    {
      "cell_type": "markdown",
      "metadata": {
        "id": "XA0tFk1v44qA"
      },
      "source": [
        "## LogisticRegression"
      ]
    },
    {
      "cell_type": "markdown",
      "metadata": {
        "id": "ZaBpUwNYvvkB"
      },
      "source": [
        "Подберем гиперпараметры при помощью GridSearchCV"
      ]
    },
    {
      "cell_type": "code",
      "metadata": {
        "colab": {
          "base_uri": "https://localhost:8080/"
        },
        "id": "UBnN8hIHvwJz",
        "outputId": "98a98c81-7293-4f5a-ee96-0662772dcec9"
      },
      "source": [
        "%%time\n",
        "\n",
        "estimator = LogisticRegression(class_weight='balanced', random_state=1, solver = 'liblinear', max_iter = 100)\n",
        "\n",
        "# Create hyperparameter options\n",
        "hyperparameters = {'C': [1, 2, 3, 4, 5, 6, 7, 8, 9, 10], \n",
        "                   'penalty': ['l1', 'l2']}\n",
        "\n",
        "# Create GridSearchCV search 5-fold cross validation\n",
        "clf = GridSearchCV(estimator, hyperparameters, \n",
        "                   scoring = 'f1', \n",
        "                   cv=5, verbose=0, n_jobs=-1)\n",
        "\n",
        "# Fit GridSearchCV search\n",
        "best_model = clf.fit(tf_idf_train, target_train)\n",
        "\n",
        "# View best hyperparameters\n",
        "print('Best Penalty:', best_model.best_estimator_.get_params()['penalty'])\n",
        "print('Best C:', best_model.best_estimator_.get_params()['C'])\n",
        "clf_best = best_model.best_params_\n",
        "best_score = best_model.best_score_\n",
        " \n",
        "print('Best params = ', clf_best)\n",
        "print('best_score = ', best_score)"
      ],
      "execution_count": null,
      "outputs": [
        {
          "output_type": "stream",
          "text": [
            "Best Penalty: l2\n",
            "Best C: 7\n",
            "Best params =  {'C': 7, 'penalty': 'l2'}\n",
            "best_score =  0.7631509711950086\n",
            "CPU times: user 10.4 s, sys: 6.12 s, total: 16.5 s\n",
            "Wall time: 6min 39s\n"
          ],
          "name": "stdout"
        }
      ]
    },
    {
      "cell_type": "markdown",
      "metadata": {
        "id": "4QmFAUI9u-MF"
      },
      "source": [
        "Оптимальные гиперпараметры:\n",
        "- Best params =  {'C': 7, 'penalty': 'l2'}\n",
        "- best_score =  0.7619103949910186\n",
        "\n",
        "\n",
        "Обучим модель LogisticRegression, присвоим сбалансированноть весов."
      ]
    },
    {
      "cell_type": "code",
      "metadata": {
        "colab": {
          "base_uri": "https://localhost:8080/"
        },
        "id": "jh-NLpzF44qW",
        "outputId": "3ff059c7-4f59-4061-b8fb-e4534fd878ed"
      },
      "source": [
        "%%time\n",
        "model_LogisticRegression = LogisticRegression(class_weight='balanced', \n",
        "                                              random_state=1, \n",
        "                                              solver = 'liblinear', \n",
        "                                              max_iter = 100,\n",
        "                                              C = 7,\n",
        "                                              penalty = 'l2',\n",
        "                                              n_jobs = -1)\n",
        "model_LogisticRegression.fit(tf_idf_train, target_train)"
      ],
      "execution_count": null,
      "outputs": [
        {
          "output_type": "stream",
          "text": [
            "/usr/local/lib/python3.7/dist-packages/sklearn/linear_model/_logistic.py:1539: UserWarning: 'n_jobs' > 1 does not have any effect when 'solver' is set to 'liblinear'. Got 'n_jobs' = 2.\n",
            "  \" = {}.\".format(effective_n_jobs(self.n_jobs)))\n"
          ],
          "name": "stderr"
        },
        {
          "output_type": "stream",
          "text": [
            "CPU times: user 7.32 s, sys: 5.22 s, total: 12.5 s\n",
            "Wall time: 6.46 s\n"
          ],
          "name": "stdout"
        }
      ]
    },
    {
      "cell_type": "markdown",
      "metadata": {
        "id": "FwMLpYR9vLwE"
      },
      "source": [
        "Сделаем предсказания и вычислим метрику качесва модели F1-score."
      ]
    },
    {
      "cell_type": "code",
      "metadata": {
        "colab": {
          "base_uri": "https://localhost:8080/"
        },
        "id": "g-cCVTOy44qf",
        "outputId": "202f9af8-00b3-4e38-f162-55555ddb4eae"
      },
      "source": [
        "pred_train = model_LogisticRegression.predict(tf_idf_train)\n",
        "print('f1_score train:', f1_score(target_train, pred_train))\n",
        "pred_test = model_LogisticRegression.predict(tf_idf_test)\n",
        "print('f1_score test:', f1_score(target_test, pred_test))"
      ],
      "execution_count": null,
      "outputs": [
        {
          "output_type": "stream",
          "text": [
            "f1_score train: 0.8835454684864285\n",
            "f1_score test: 0.7673847832015273\n"
          ],
          "name": "stdout"
        }
      ]
    },
    {
      "cell_type": "markdown",
      "metadata": {
        "id": "L5t0PR37kDvg"
      },
      "source": [
        "### Вывод\n",
        "\n",
        "На логистической регресии мы получили качество F1-метрики:\n",
        "**f1_score test: 0.767**\n",
        "\n",
        "Это удовлетворяет условию задачи."
      ]
    },
    {
      "cell_type": "markdown",
      "metadata": {
        "id": "8QoQQgnv44sk"
      },
      "source": [
        "## BERT"
      ]
    },
    {
      "cell_type": "markdown",
      "metadata": {
        "id": "6BMg19s5Nu_l"
      },
      "source": [
        "Установим библиотеку Transformers"
      ]
    },
    {
      "cell_type": "code",
      "metadata": {
        "colab": {
          "base_uri": "https://localhost:8080/"
        },
        "id": "C-B1-nO244pJ",
        "scrolled": true,
        "outputId": "7a91b963-2004-402b-b57e-0ecc338cbdce"
      },
      "source": [
        "!pip install transformers"
      ],
      "execution_count": null,
      "outputs": [
        {
          "output_type": "stream",
          "text": [
            "Requirement already satisfied: transformers in /usr/local/lib/python3.7/dist-packages (4.6.1)\n",
            "Requirement already satisfied: regex!=2019.12.17 in /usr/local/lib/python3.7/dist-packages (from transformers) (2019.12.20)\n",
            "Requirement already satisfied: packaging in /usr/local/lib/python3.7/dist-packages (from transformers) (20.9)\n",
            "Requirement already satisfied: sacremoses in /usr/local/lib/python3.7/dist-packages (from transformers) (0.0.45)\n",
            "Requirement already satisfied: tokenizers<0.11,>=0.10.1 in /usr/local/lib/python3.7/dist-packages (from transformers) (0.10.3)\n",
            "Requirement already satisfied: filelock in /usr/local/lib/python3.7/dist-packages (from transformers) (3.0.12)\n",
            "Requirement already satisfied: tqdm>=4.27 in /usr/local/lib/python3.7/dist-packages (from transformers) (4.41.1)\n",
            "Requirement already satisfied: numpy>=1.17 in /usr/local/lib/python3.7/dist-packages (from transformers) (1.19.5)\n",
            "Requirement already satisfied: huggingface-hub==0.0.8 in /usr/local/lib/python3.7/dist-packages (from transformers) (0.0.8)\n",
            "Requirement already satisfied: importlib-metadata; python_version < \"3.8\" in /usr/local/lib/python3.7/dist-packages (from transformers) (4.0.1)\n",
            "Requirement already satisfied: requests in /usr/local/lib/python3.7/dist-packages (from transformers) (2.23.0)\n",
            "Requirement already satisfied: pyparsing>=2.0.2 in /usr/local/lib/python3.7/dist-packages (from packaging->transformers) (2.4.7)\n",
            "Requirement already satisfied: click in /usr/local/lib/python3.7/dist-packages (from sacremoses->transformers) (7.1.2)\n",
            "Requirement already satisfied: joblib in /usr/local/lib/python3.7/dist-packages (from sacremoses->transformers) (1.0.1)\n",
            "Requirement already satisfied: six in /usr/local/lib/python3.7/dist-packages (from sacremoses->transformers) (1.15.0)\n",
            "Requirement already satisfied: zipp>=0.5 in /usr/local/lib/python3.7/dist-packages (from importlib-metadata; python_version < \"3.8\"->transformers) (3.4.1)\n",
            "Requirement already satisfied: typing-extensions>=3.6.4; python_version < \"3.8\" in /usr/local/lib/python3.7/dist-packages (from importlib-metadata; python_version < \"3.8\"->transformers) (3.7.4.3)\n",
            "Requirement already satisfied: certifi>=2017.4.17 in /usr/local/lib/python3.7/dist-packages (from requests->transformers) (2020.12.5)\n",
            "Requirement already satisfied: idna<3,>=2.5 in /usr/local/lib/python3.7/dist-packages (from requests->transformers) (2.10)\n",
            "Requirement already satisfied: urllib3!=1.25.0,!=1.25.1,<1.26,>=1.21.1 in /usr/local/lib/python3.7/dist-packages (from requests->transformers) (1.24.3)\n",
            "Requirement already satisfied: chardet<4,>=3.0.2 in /usr/local/lib/python3.7/dist-packages (from requests->transformers) (3.0.4)\n"
          ],
          "name": "stdout"
        }
      ]
    },
    {
      "cell_type": "code",
      "metadata": {
        "id": "rrerVSgkrvah"
      },
      "source": [
        "# for BERT\n",
        "import torch\n",
        "import torch.nn as nn\n",
        "import transformers\n",
        "import tensorflow as tf\n",
        "from transformers import AutoModel, BertTokenizerFast\n",
        "# specify GPU\n",
        "device = torch.device(\"cuda\")"
      ],
      "execution_count": null,
      "outputs": []
    },
    {
      "cell_type": "markdown",
      "metadata": {
        "id": "oLZ9WHu6yeAE"
      },
      "source": [
        "Возьмем  предобученную модель BERT (от англ. Bidirectional Encoder Representations from Transformers, «двунаправленная нейронная сеть-кодировщик») — нейронная сеть для создания модели языка. "
      ]
    },
    {
      "cell_type": "markdown",
      "metadata": {
        "id": "PGMmpYLtyxd_"
      },
      "source": [
        "Из нашего датасета возьмем часть данных, так как мощность аппартных устройств (объём памяти GPU) не позволяет нам произвести обучение модели на полных данных."
      ]
    },
    {
      "cell_type": "code",
      "metadata": {
        "id": "B4eEbHfs44sl"
      },
      "source": [
        "df = pd.read_csv('toxic_comments.csv')\n",
        "df = df.sample(n = 45000, random_state = 1)"
      ],
      "execution_count": null,
      "outputs": []
    },
    {
      "cell_type": "code",
      "metadata": {
        "id": "6JELUbYf44sv"
      },
      "source": [
        "# split train dataset into train, validation and test sets\n",
        "train_text, temp_text, train_labels, temp_labels = train_test_split(df['text'], df['toxic'], \n",
        "                                                                    random_state=1, \n",
        "                                                                    test_size=0.2, \n",
        "                                                                    stratify=df['toxic'])\n",
        "\n",
        "\n",
        "val_text, test_text, val_labels, test_labels = train_test_split(temp_text, temp_labels, \n",
        "                                                                random_state=1, \n",
        "                                                                test_size=0.5, \n",
        "                                                                stratify=temp_labels)"
      ],
      "execution_count": null,
      "outputs": []
    },
    {
      "cell_type": "code",
      "metadata": {
        "colab": {
          "base_uri": "https://localhost:8080/"
        },
        "id": "iAFY5Ed644s3",
        "outputId": "73e1c8d7-80b8-41ee-d4db-6719a08f3d1e"
      },
      "source": [
        "# import BERT-base pretrained model\n",
        "bert = AutoModel.from_pretrained('bert-base-uncased')\n",
        "\n",
        "# Load the BERT tokenizer\n",
        "tokenizer = BertTokenizerFast.from_pretrained('bert-base-uncased')"
      ],
      "execution_count": null,
      "outputs": [
        {
          "output_type": "stream",
          "text": [
            "Some weights of the model checkpoint at bert-base-uncased were not used when initializing BertModel: ['cls.predictions.transform.dense.weight', 'cls.predictions.transform.LayerNorm.bias', 'cls.seq_relationship.bias', 'cls.predictions.transform.LayerNorm.weight', 'cls.predictions.bias', 'cls.predictions.transform.dense.bias', 'cls.predictions.decoder.weight', 'cls.seq_relationship.weight']\n",
            "- This IS expected if you are initializing BertModel from the checkpoint of a model trained on another task or with another architecture (e.g. initializing a BertForSequenceClassification model from a BertForPreTraining model).\n",
            "- This IS NOT expected if you are initializing BertModel from the checkpoint of a model that you expect to be exactly identical (initializing a BertForSequenceClassification model from a BertForSequenceClassification model).\n"
          ],
          "name": "stderr"
        }
      ]
    },
    {
      "cell_type": "code",
      "metadata": {
        "colab": {
          "base_uri": "https://localhost:8080/"
        },
        "id": "ieS0jsZY44tV",
        "outputId": "2546e4ce-a424-4c71-bca3-212f6f468842"
      },
      "source": [
        "# sample data\n",
        "text = [\"this is a bert model tutorial\", \"we will fine-tune a bert model\"]\n",
        "\n",
        "# encode text\n",
        "sent_id = tokenizer.batch_encode_plus(text, padding=True)\n",
        "\n",
        "# output\n",
        "print(sent_id)"
      ],
      "execution_count": null,
      "outputs": [
        {
          "output_type": "stream",
          "text": [
            "{'input_ids': [[101, 2023, 2003, 1037, 14324, 2944, 14924, 4818, 102, 0], [101, 2057, 2097, 2986, 1011, 8694, 1037, 14324, 2944, 102]], 'token_type_ids': [[0, 0, 0, 0, 0, 0, 0, 0, 0, 0], [0, 0, 0, 0, 0, 0, 0, 0, 0, 0]], 'attention_mask': [[1, 1, 1, 1, 1, 1, 1, 1, 1, 0], [1, 1, 1, 1, 1, 1, 1, 1, 1, 1]]}\n"
          ],
          "name": "stdout"
        }
      ]
    },
    {
      "cell_type": "code",
      "metadata": {
        "colab": {
          "base_uri": "https://localhost:8080/",
          "height": 295
        },
        "id": "MkBoGUbF44te",
        "outputId": "c23fdd8c-3bd0-40a3-c69f-3b945349a10b"
      },
      "source": [
        "# get length of all the messages in the train set\n",
        "seq_len = [len(i.split()) for i in train_text]\n",
        "\n",
        "pd.Series(seq_len).hist(bins = 30)\n",
        "plt.title('\\nHistogram of length of all the messages in the train set')\n",
        "plt.xlim(0, 200)\n",
        "plt.grid(True)\n",
        "plt.show()"
      ],
      "execution_count": null,
      "outputs": [
        {
          "output_type": "display_data",
          "data": {
            "image/png": "[encoded data removed]",
            "text/plain": [
              "<Figure size 432x288 with 1 Axes>"
            ]
          },
          "metadata": {
            "tags": [],
            "needs_background": "light"
          }
        }
      ]
    },
    {
      "cell_type": "code",
      "metadata": {
        "colab": {
          "base_uri": "https://localhost:8080/"
        },
        "id": "bRsvnmM644tn",
        "outputId": "9c93c398-69f2-424f-f804-80a563951a54"
      },
      "source": [
        "# tokenize and encode sequences in the training set\n",
        "tokens_train = tokenizer.batch_encode_plus(\n",
        "    train_text.tolist(),\n",
        "    max_length = 50,\n",
        "    pad_to_max_length=True,\n",
        "    truncation=True\n",
        ")\n",
        "\n",
        "# tokenize and encode sequences in the validation set\n",
        "tokens_val = tokenizer.batch_encode_plus(\n",
        "    val_text.tolist(),\n",
        "    max_length = 50,\n",
        "    pad_to_max_length=True,\n",
        "    truncation=True\n",
        ")\n",
        "\n",
        "# tokenize and encode sequences in the test set\n",
        "tokens_test = tokenizer.batch_encode_plus(\n",
        "    test_text.tolist(),\n",
        "    max_length = 50,\n",
        "    pad_to_max_length=True,\n",
        "    truncation=True\n",
        ")"
      ],
      "execution_count": null,
      "outputs": [
        {
          "output_type": "stream",
          "text": [
            "/usr/local/lib/python3.7/dist-packages/transformers/tokenization_utils_base.py:2110: FutureWarning: The `pad_to_max_length` argument is deprecated and will be removed in a future version, use `padding=True` or `padding='longest'` to pad to the longest sequence in the batch, or use `padding='max_length'` to pad to a max length. In this case, you can give a specific length with `max_length` (e.g. `max_length=45`) or leave max_length to None to pad to the maximal input size of the model (e.g. 512 for Bert).\n",
            "  FutureWarning,\n"
          ],
          "name": "stderr"
        }
      ]
    },
    {
      "cell_type": "code",
      "metadata": {
        "id": "uhVV0ECt44tr"
      },
      "source": [
        "## convert lists to tensors\n",
        "\n",
        "train_seq = torch.tensor(tokens_train['input_ids'])\n",
        "train_mask = torch.tensor(tokens_train['attention_mask'])\n",
        "train_y = torch.tensor(train_labels.tolist())\n",
        "\n",
        "val_seq = torch.tensor(tokens_val['input_ids'])\n",
        "val_mask = torch.tensor(tokens_val['attention_mask'])\n",
        "val_y = torch.tensor(val_labels.tolist())\n",
        "\n",
        "test_seq = torch.tensor(tokens_test['input_ids'])\n",
        "test_mask = torch.tensor(tokens_test['attention_mask'])\n",
        "test_y = torch.tensor(test_labels.tolist())"
      ],
      "execution_count": null,
      "outputs": []
    },
    {
      "cell_type": "code",
      "metadata": {
        "id": "9gUMW1tM44tw"
      },
      "source": [
        "from torch.utils.data import TensorDataset, DataLoader, RandomSampler, SequentialSampler\n",
        "\n",
        "#define a batch size\n",
        "batch_size = 32\n",
        "\n",
        "# wrap tensors\n",
        "train_data = TensorDataset(train_seq, train_mask, train_y)\n",
        "\n",
        "# sampler for sampling the data during training\n",
        "train_sampler = RandomSampler(train_data)\n",
        "\n",
        "# dataLoader for train set\n",
        "train_dataloader = DataLoader(train_data, sampler=train_sampler, batch_size=batch_size)\n",
        "\n",
        "# wrap tensors\n",
        "val_data = TensorDataset(val_seq, val_mask, val_y)\n",
        "\n",
        "# sampler for sampling the data during training\n",
        "val_sampler = SequentialSampler(val_data)\n",
        "\n",
        "# dataLoader for validation set\n",
        "val_dataloader = DataLoader(val_data, sampler = val_sampler, batch_size=batch_size)"
      ],
      "execution_count": null,
      "outputs": []
    },
    {
      "cell_type": "code",
      "metadata": {
        "id": "eIWZIGjW44t0"
      },
      "source": [
        "# freeze all the parameters\n",
        "for param in bert.parameters():\n",
        "    param.requires_grad = False"
      ],
      "execution_count": null,
      "outputs": []
    },
    {
      "cell_type": "code",
      "metadata": {
        "id": "P1kmQ4pz44t4"
      },
      "source": [
        "class BERT_Arch(nn.Module):\n",
        "\n",
        "    def __init__(self, bert):\n",
        "      \n",
        "      super(BERT_Arch, self).__init__()\n",
        "\n",
        "      self.bert = bert \n",
        "      \n",
        "      # dropout layer\n",
        "      self.dropout = nn.Dropout(0.1)\n",
        "      \n",
        "      # relu activation function\n",
        "      self.relu =  nn.ReLU()\n",
        "\n",
        "      # dense layer 1\n",
        "      self.fc1 = nn.Linear(768,512)\n",
        "      \n",
        "      # dense layer 2 (Output layer)\n",
        "      self.fc2 = nn.Linear(512,2)\n",
        "\n",
        "      #softmax activation function\n",
        "      self.softmax = nn.LogSoftmax(dim=1)\n",
        "\n",
        "    #define the forward pass\n",
        "    def forward(self, sent_id, mask):\n",
        "\n",
        "      #pass the inputs to the model  \n",
        "      _, cls_hs = self.bert(sent_id, attention_mask=mask, return_dict=False)\n",
        "      \n",
        "      x = self.fc1(cls_hs)\n",
        "\n",
        "      x = self.relu(x)\n",
        "\n",
        "      x = self.dropout(x)\n",
        "\n",
        "      # output layer\n",
        "      x = self.fc2(x)\n",
        "      \n",
        "      # apply softmax activation\n",
        "      x = self.softmax(x)\n",
        "\n",
        "      return x"
      ],
      "execution_count": null,
      "outputs": []
    },
    {
      "cell_type": "code",
      "metadata": {
        "id": "-OvC5WDB44t9"
      },
      "source": [
        "# pass the pre-trained BERT to our define architecture\n",
        "model = BERT_Arch(bert)\n",
        "\n",
        "# push the model to GPU\n",
        "model = model.to(device)"
      ],
      "execution_count": null,
      "outputs": []
    },
    {
      "cell_type": "code",
      "metadata": {
        "id": "D9FuujdD44uB"
      },
      "source": [
        "# optimizer from hugging face transformers\n",
        "from transformers import AdamW\n",
        "\n",
        "# define the optimizer\n",
        "optimizer = AdamW(model.parameters(),\n",
        "                  lr = 1e-5)          # learning rate"
      ],
      "execution_count": null,
      "outputs": []
    },
    {
      "cell_type": "code",
      "metadata": {
        "colab": {
          "base_uri": "https://localhost:8080/"
        },
        "id": "r7-aEu1P44uF",
        "outputId": "d8407183-0efa-4b73-86da-e6468b4fec83"
      },
      "source": [
        "from sklearn.utils.class_weight import compute_class_weight\n",
        "\n",
        "#compute the class weights\n",
        "class_weights = compute_class_weight('balanced', np.unique(train_labels), train_labels)\n",
        "\n",
        "print(\"Class Weights:\",class_weights)"
      ],
      "execution_count": null,
      "outputs": [
        {
          "output_type": "stream",
          "text": [
            "Class Weights: [0.55772448 4.83091787]\n"
          ],
          "name": "stdout"
        }
      ]
    },
    {
      "cell_type": "code",
      "metadata": {
        "id": "seiWpx0H44uK"
      },
      "source": [
        "# converting list of class weights to a tensor\n",
        "weights= torch.tensor(class_weights,dtype=torch.float)\n",
        "\n",
        "# push to GPU\n",
        "weights = weights.to(device)\n",
        "\n",
        "# define the loss function\n",
        "cross_entropy  = nn.NLLLoss(weight=weights) \n",
        "\n",
        "# number of training epochs\n",
        "epochs = 7"
      ],
      "execution_count": null,
      "outputs": []
    },
    {
      "cell_type": "code",
      "metadata": {
        "id": "UmuTnJgX44uO"
      },
      "source": [
        "# function to train the model\n",
        "def train():\n",
        "  \n",
        "  model.train()\n",
        "\n",
        "  total_loss, total_accuracy = 0, 0\n",
        "  \n",
        "  # empty list to save model predictions\n",
        "  total_preds=[]\n",
        "  \n",
        "  # iterate over batches\n",
        "  for step,batch in enumerate(train_dataloader):\n",
        "    \n",
        "    # progress update after every 50 batches.\n",
        "    if step % 50 == 0 and not step == 0:\n",
        "      print('  Batch {:>5,}  of  {:>5,}.'.format(step, len(train_dataloader)))\n",
        "\n",
        "    # push the batch to gpu\n",
        "    batch = [r.to(device) for r in batch]\n",
        " \n",
        "    sent_id, mask, labels = batch\n",
        "\n",
        "    # clear previously calculated gradients \n",
        "    model.zero_grad()        \n",
        "\n",
        "    # get model predictions for the current batch\n",
        "    preds = model(sent_id, mask)\n",
        "\n",
        "    # compute the loss between actual and predicted values\n",
        "    loss = cross_entropy(preds, labels)\n",
        "\n",
        "    # add on to the total loss\n",
        "    total_loss = total_loss + loss.item()\n",
        "\n",
        "    # backward pass to calculate the gradients\n",
        "    loss.backward()\n",
        "\n",
        "    # clip the the gradients to 1.0. It helps in preventing the exploding gradient problem\n",
        "    torch.nn.utils.clip_grad_norm_(model.parameters(), 1.0)\n",
        "\n",
        "    # update parameters\n",
        "    optimizer.step()\n",
        "\n",
        "    # model predictions are stored on GPU. So, push it to CPU\n",
        "    preds=preds.detach().cpu().numpy()\n",
        "\n",
        "    # append the model predictions\n",
        "    total_preds.append(preds)\n",
        "\n",
        "  # compute the training loss of the epoch\n",
        "  avg_loss = total_loss / len(train_dataloader)\n",
        "  \n",
        "  # predictions are in the form of (no. of batches, size of batch, no. of classes).\n",
        "  # reshape the predictions in form of (number of samples, no. of classes)\n",
        "  total_preds  = np.concatenate(total_preds, axis=0)\n",
        "\n",
        "  #returns the loss and predictions\n",
        "  return avg_loss, total_preds"
      ],
      "execution_count": null,
      "outputs": []
    },
    {
      "cell_type": "code",
      "metadata": {
        "id": "95Y7Zx2c44uT"
      },
      "source": [
        "# function for evaluating the model\n",
        "def evaluate():\n",
        "  \n",
        "  print(\"\\nEvaluating...\")\n",
        "  \n",
        "  # deactivate dropout layers\n",
        "  model.eval()\n",
        "\n",
        "  total_loss, total_accuracy = 0, 0\n",
        "  \n",
        "  # empty list to save the model predictions\n",
        "  total_preds = []\n",
        "\n",
        "  # iterate over batches\n",
        "  for step,batch in enumerate(val_dataloader):\n",
        "    \n",
        "    # Progress update every 50 batches.\n",
        "    if step % 50 == 0 and not step == 0:\n",
        "      \n",
        "      # Calculate elapsed time in minutes.\n",
        "      # elapsed = format_time(time.time() - t0)\n",
        "            \n",
        "      # Report progress.\n",
        "      print('  Batch {:>5,}  of  {:>5,}.'.format(step, len(val_dataloader)))\n",
        "\n",
        "    # push the batch to gpu\n",
        "    batch = [t.to(device) for t in batch]\n",
        "\n",
        "    sent_id, mask, labels = batch\n",
        "\n",
        "    # deactivate autograd\n",
        "    with torch.no_grad():\n",
        "      \n",
        "      # model predictions\n",
        "      preds = model(sent_id, mask)\n",
        "\n",
        "      # compute the validation loss between actual and predicted values\n",
        "      loss = cross_entropy(preds,labels)\n",
        "\n",
        "      total_loss = total_loss + loss.item()\n",
        "\n",
        "      preds = preds.detach().cpu().numpy()\n",
        "\n",
        "      total_preds.append(preds)\n",
        "\n",
        "  # compute the validation loss of the epoch\n",
        "  avg_loss = total_loss / len(val_dataloader) \n",
        "\n",
        "  # reshape the predictions in form of (number of samples, no. of classes)\n",
        "  total_preds  = np.concatenate(total_preds, axis=0)\n",
        "\n",
        "  return avg_loss, total_preds"
      ],
      "execution_count": null,
      "outputs": []
    },
    {
      "cell_type": "code",
      "metadata": {
        "colab": {
          "base_uri": "https://localhost:8080/"
        },
        "id": "enwJ9iVL44uW",
        "outputId": "485dad00-2b43-45f8-b030-aa3401f4d939"
      },
      "source": [
        "%%time\n",
        "# set initial loss to infinite\n",
        "best_valid_loss = float('inf')\n",
        "\n",
        "# empty lists to store training and validation loss of each epoch\n",
        "train_losses=[]\n",
        "valid_losses=[]\n",
        "\n",
        "#for each epoch\n",
        "for epoch in range(epochs):\n",
        "     \n",
        "    print('\\n Epoch {:} / {:}'.format(epoch + 1, epochs))\n",
        "    \n",
        "    #train model\n",
        "    train_loss, _ = train()\n",
        "    \n",
        "    #evaluate model\n",
        "    valid_loss, _ = evaluate()\n",
        "    \n",
        "    #save the best model\n",
        "    if valid_loss < best_valid_loss:\n",
        "        best_valid_loss = valid_loss\n",
        "        torch.save(model.state_dict(), 'saved_weights.pt')\n",
        "    \n",
        "    # append training and validation loss\n",
        "    train_losses.append(train_loss)\n",
        "    valid_losses.append(valid_loss)\n",
        "    \n",
        "    print(f'\\nTraining Loss: {train_loss:.3f}')\n",
        "    print(f'Validation Loss: {valid_loss:.3f}')"
      ],
      "execution_count": null,
      "outputs": [
        {
          "output_type": "stream",
          "text": [
            "\n",
            " Epoch 1 / 7\n",
            "  Batch    50  of  1,125.\n",
            "  Batch   100  of  1,125.\n",
            "  Batch   150  of  1,125.\n",
            "  Batch   200  of  1,125.\n",
            "  Batch   250  of  1,125.\n",
            "  Batch   300  of  1,125.\n",
            "  Batch   350  of  1,125.\n",
            "  Batch   400  of  1,125.\n",
            "  Batch   450  of  1,125.\n",
            "  Batch   500  of  1,125.\n",
            "  Batch   550  of  1,125.\n",
            "  Batch   600  of  1,125.\n",
            "  Batch   650  of  1,125.\n",
            "  Batch   700  of  1,125.\n",
            "  Batch   750  of  1,125.\n",
            "  Batch   800  of  1,125.\n",
            "  Batch   850  of  1,125.\n",
            "  Batch   900  of  1,125.\n",
            "  Batch   950  of  1,125.\n",
            "  Batch 1,000  of  1,125.\n",
            "  Batch 1,050  of  1,125.\n",
            "  Batch 1,100  of  1,125.\n",
            "\n",
            "Evaluating...\n",
            "  Batch    50  of    141.\n",
            "  Batch   100  of    141.\n",
            "\n",
            "Training Loss: 0.638\n",
            "Validation Loss: 0.597\n",
            "\n",
            " Epoch 2 / 7\n",
            "  Batch    50  of  1,125.\n",
            "  Batch   100  of  1,125.\n",
            "  Batch   150  of  1,125.\n",
            "  Batch   200  of  1,125.\n",
            "  Batch   250  of  1,125.\n",
            "  Batch   300  of  1,125.\n",
            "  Batch   350  of  1,125.\n",
            "  Batch   400  of  1,125.\n",
            "  Batch   450  of  1,125.\n",
            "  Batch   500  of  1,125.\n",
            "  Batch   550  of  1,125.\n",
            "  Batch   600  of  1,125.\n",
            "  Batch   650  of  1,125.\n",
            "  Batch   700  of  1,125.\n",
            "  Batch   750  of  1,125.\n",
            "  Batch   800  of  1,125.\n",
            "  Batch   850  of  1,125.\n",
            "  Batch   900  of  1,125.\n",
            "  Batch   950  of  1,125.\n",
            "  Batch 1,000  of  1,125.\n",
            "  Batch 1,050  of  1,125.\n",
            "  Batch 1,100  of  1,125.\n",
            "\n",
            "Evaluating...\n",
            "  Batch    50  of    141.\n",
            "  Batch   100  of    141.\n",
            "\n",
            "Training Loss: 0.567\n",
            "Validation Loss: 0.536\n",
            "\n",
            " Epoch 3 / 7\n",
            "  Batch    50  of  1,125.\n",
            "  Batch   100  of  1,125.\n",
            "  Batch   150  of  1,125.\n",
            "  Batch   200  of  1,125.\n",
            "  Batch   250  of  1,125.\n",
            "  Batch   300  of  1,125.\n",
            "  Batch   350  of  1,125.\n",
            "  Batch   400  of  1,125.\n",
            "  Batch   450  of  1,125.\n",
            "  Batch   500  of  1,125.\n",
            "  Batch   550  of  1,125.\n",
            "  Batch   600  of  1,125.\n",
            "  Batch   650  of  1,125.\n",
            "  Batch   700  of  1,125.\n",
            "  Batch   750  of  1,125.\n",
            "  Batch   800  of  1,125.\n",
            "  Batch   850  of  1,125.\n",
            "  Batch   900  of  1,125.\n",
            "  Batch   950  of  1,125.\n",
            "  Batch 1,000  of  1,125.\n",
            "  Batch 1,050  of  1,125.\n",
            "  Batch 1,100  of  1,125.\n",
            "\n",
            "Evaluating...\n",
            "  Batch    50  of    141.\n",
            "  Batch   100  of    141.\n",
            "\n",
            "Training Loss: 0.509\n",
            "Validation Loss: 0.492\n",
            "\n",
            " Epoch 4 / 7\n",
            "  Batch    50  of  1,125.\n",
            "  Batch   100  of  1,125.\n",
            "  Batch   150  of  1,125.\n",
            "  Batch   200  of  1,125.\n",
            "  Batch   250  of  1,125.\n",
            "  Batch   300  of  1,125.\n",
            "  Batch   350  of  1,125.\n",
            "  Batch   400  of  1,125.\n",
            "  Batch   450  of  1,125.\n",
            "  Batch   500  of  1,125.\n",
            "  Batch   550  of  1,125.\n",
            "  Batch   600  of  1,125.\n",
            "  Batch   650  of  1,125.\n",
            "  Batch   700  of  1,125.\n",
            "  Batch   750  of  1,125.\n",
            "  Batch   800  of  1,125.\n",
            "  Batch   850  of  1,125.\n",
            "  Batch   900  of  1,125.\n",
            "  Batch   950  of  1,125.\n",
            "  Batch 1,000  of  1,125.\n",
            "  Batch 1,050  of  1,125.\n",
            "  Batch 1,100  of  1,125.\n",
            "\n",
            "Evaluating...\n",
            "  Batch    50  of    141.\n",
            "  Batch   100  of    141.\n",
            "\n",
            "Training Loss: 0.467\n",
            "Validation Loss: 0.458\n",
            "\n",
            " Epoch 5 / 7\n",
            "  Batch    50  of  1,125.\n",
            "  Batch   100  of  1,125.\n",
            "  Batch   150  of  1,125.\n",
            "  Batch   200  of  1,125.\n",
            "  Batch   250  of  1,125.\n",
            "  Batch   300  of  1,125.\n",
            "  Batch   350  of  1,125.\n",
            "  Batch   400  of  1,125.\n",
            "  Batch   450  of  1,125.\n",
            "  Batch   500  of  1,125.\n",
            "  Batch   550  of  1,125.\n",
            "  Batch   600  of  1,125.\n",
            "  Batch   650  of  1,125.\n",
            "  Batch   700  of  1,125.\n",
            "  Batch   750  of  1,125.\n",
            "  Batch   800  of  1,125.\n",
            "  Batch   850  of  1,125.\n",
            "  Batch   900  of  1,125.\n",
            "  Batch   950  of  1,125.\n",
            "  Batch 1,000  of  1,125.\n",
            "  Batch 1,050  of  1,125.\n",
            "  Batch 1,100  of  1,125.\n",
            "\n",
            "Evaluating...\n",
            "  Batch    50  of    141.\n",
            "  Batch   100  of    141.\n",
            "\n",
            "Training Loss: 0.436\n",
            "Validation Loss: 0.437\n",
            "\n",
            " Epoch 6 / 7\n",
            "  Batch    50  of  1,125.\n",
            "  Batch   100  of  1,125.\n",
            "  Batch   150  of  1,125.\n",
            "  Batch   200  of  1,125.\n",
            "  Batch   250  of  1,125.\n",
            "  Batch   300  of  1,125.\n",
            "  Batch   350  of  1,125.\n",
            "  Batch   400  of  1,125.\n",
            "  Batch   450  of  1,125.\n",
            "  Batch   500  of  1,125.\n",
            "  Batch   550  of  1,125.\n",
            "  Batch   600  of  1,125.\n",
            "  Batch   650  of  1,125.\n",
            "  Batch   700  of  1,125.\n",
            "  Batch   750  of  1,125.\n",
            "  Batch   800  of  1,125.\n",
            "  Batch   850  of  1,125.\n",
            "  Batch   900  of  1,125.\n",
            "  Batch   950  of  1,125.\n",
            "  Batch 1,000  of  1,125.\n",
            "  Batch 1,050  of  1,125.\n",
            "  Batch 1,100  of  1,125.\n",
            "\n",
            "Evaluating...\n",
            "  Batch    50  of    141.\n",
            "  Batch   100  of    141.\n",
            "\n",
            "Training Loss: 0.418\n",
            "Validation Loss: 0.420\n",
            "\n",
            " Epoch 7 / 7\n",
            "  Batch    50  of  1,125.\n",
            "  Batch   100  of  1,125.\n",
            "  Batch   150  of  1,125.\n",
            "  Batch   200  of  1,125.\n",
            "  Batch   250  of  1,125.\n",
            "  Batch   300  of  1,125.\n",
            "  Batch   350  of  1,125.\n",
            "  Batch   400  of  1,125.\n",
            "  Batch   450  of  1,125.\n",
            "  Batch   500  of  1,125.\n",
            "  Batch   550  of  1,125.\n",
            "  Batch   600  of  1,125.\n",
            "  Batch   650  of  1,125.\n",
            "  Batch   700  of  1,125.\n",
            "  Batch   750  of  1,125.\n",
            "  Batch   800  of  1,125.\n",
            "  Batch   850  of  1,125.\n",
            "  Batch   900  of  1,125.\n",
            "  Batch   950  of  1,125.\n",
            "  Batch 1,000  of  1,125.\n",
            "  Batch 1,050  of  1,125.\n",
            "  Batch 1,100  of  1,125.\n",
            "\n",
            "Evaluating...\n",
            "  Batch    50  of    141.\n",
            "  Batch   100  of    141.\n",
            "\n",
            "Training Loss: 0.405\n",
            "Validation Loss: 0.413\n",
            "CPU times: user 15min, sys: 4.6 s, total: 15min 5s\n",
            "Wall time: 15min 6s\n"
          ],
          "name": "stdout"
        }
      ]
    },
    {
      "cell_type": "code",
      "metadata": {
        "id": "9nRrsJKb44ua",
        "colab": {
          "base_uri": "https://localhost:8080/"
        },
        "outputId": "9238ab61-ea6c-4e52-c594-57e15f13a3fa"
      },
      "source": [
        "#load weights of best model\n",
        "path = 'saved_weights.pt'\n",
        "model.load_state_dict(torch.load(path))"
      ],
      "execution_count": null,
      "outputs": [
        {
          "output_type": "execute_result",
          "data": {
            "text/plain": [
              "<All keys matched successfully>"
            ]
          },
          "metadata": {
            "tags": []
          },
          "execution_count": 72
        }
      ]
    },
    {
      "cell_type": "code",
      "metadata": {
        "id": "p2i6Xvru44ug"
      },
      "source": [
        "# get predictions for test data\n",
        "with torch.no_grad():\n",
        "  preds = model(test_seq.to(device), test_mask.to(device))\n",
        "  preds = preds.detach().cpu().numpy()"
      ],
      "execution_count": null,
      "outputs": []
    },
    {
      "cell_type": "code",
      "metadata": {
        "id": "9pvctOCt44un",
        "colab": {
          "base_uri": "https://localhost:8080/"
        },
        "outputId": "855fc0d5-7051-4e81-f9c8-d84d81db0c7e"
      },
      "source": [
        "preds = np.argmax(preds, axis = 1)\n",
        "print(classification_report(test_y, preds))"
      ],
      "execution_count": null,
      "outputs": [
        {
          "output_type": "stream",
          "text": [
            "              precision    recall  f1-score   support\n",
            "\n",
            "           0       0.97      0.89      0.93      4034\n",
            "           1       0.44      0.78      0.56       466\n",
            "\n",
            "    accuracy                           0.87      4500\n",
            "   macro avg       0.71      0.83      0.74      4500\n",
            "weighted avg       0.92      0.87      0.89      4500\n",
            "\n"
          ],
          "name": "stdout"
        }
      ]
    },
    {
      "cell_type": "code",
      "metadata": {
        "id": "GzDRMrD_44uy",
        "colab": {
          "base_uri": "https://localhost:8080/"
        },
        "outputId": "e846489a-262d-4d35-958c-9b4ef5cecf8e"
      },
      "source": [
        "print('f1_score test:', f1_score(test_y, preds))"
      ],
      "execution_count": null,
      "outputs": [
        {
          "output_type": "stream",
          "text": [
            "f1_score test: 0.5608055770720372\n"
          ],
          "name": "stdout"
        }
      ]
    },
    {
      "cell_type": "markdown",
      "metadata": {
        "id": "jcxqk-TVmWlv"
      },
      "source": [
        "### Вывод\n",
        "Качество модели BERT **f1_score test: 0.56**"
      ]
    },
    {
      "cell_type": "markdown",
      "metadata": {
        "id": "RoIy5vcsVx0s"
      },
      "source": [
        "## Dummy модель"
      ]
    },
    {
      "cell_type": "markdown",
      "metadata": {
        "id": "IGdcGIB4bdHA"
      },
      "source": [
        "Для проверки адекватности моделей сравним качесво с Dummy моделью."
      ]
    },
    {
      "cell_type": "code",
      "metadata": {
        "id": "mDKotmznVy0-",
        "colab": {
          "base_uri": "https://localhost:8080/"
        },
        "outputId": "713c1aab-4209-44d7-9c79-5ca5a88ebc55"
      },
      "source": [
        "model_dummy = DummyClassifier()\n",
        "model_dummy.fit(train_text, train_labels)\n",
        "prediction_dummy = model_dummy.predict(test_text)\n",
        "print('F1 для Dummy модели составил ', round(f1_score(test_labels, prediction_dummy),2))"
      ],
      "execution_count": null,
      "outputs": [
        {
          "output_type": "stream",
          "text": [
            "F1 для Dummy модели составил  0.11\n"
          ],
          "name": "stdout"
        },
        {
          "output_type": "stream",
          "text": [
            "/usr/local/lib/python3.7/dist-packages/sklearn/dummy.py:132: FutureWarning: The default value of strategy will change from stratified to prior in 0.24.\n",
            "  \"stratified to prior in 0.24.\", FutureWarning)\n"
          ],
          "name": "stderr"
        }
      ]
    },
    {
      "cell_type": "markdown",
      "metadata": {
        "id": "BG7uzSP_bxea"
      },
      "source": [
        "Качесвто Dummy модели ... это ниже качества наших моджелей, что означает, что наши модели адекватны."
      ]
    },
    {
      "cell_type": "markdown",
      "metadata": {
        "id": "ZHIUWlsC44vN"
      },
      "source": [
        "# 3. Выводы"
      ]
    },
    {
      "cell_type": "markdown",
      "metadata": {
        "id": "Pfo0lXShL0im"
      },
      "source": [
        "Мы провели обучение моделей, которые ищут токсичные комментарии и отправляют их на модерацию.\n",
        "В результате обучения моделей мы получили следующие показатели метрики оценки качества F1-score на тестовых данных:\n",
        "\n",
        "- Модель LogisticRegression F1 - score: 0.76\n",
        "- Модель BERT F1 - score: 0.56\n",
        "\n",
        "Для сайта мы предложим модель LogisticRegression, она показала высокое качество и быструю скорость обучения."
      ]
    },
    {
      "cell_type": "code",
      "metadata": {
        "id": "fpmp1Hf9GEmn"
      },
      "source": [
        ""
      ],
      "execution_count": null,
      "outputs": []
    }
  ]
}